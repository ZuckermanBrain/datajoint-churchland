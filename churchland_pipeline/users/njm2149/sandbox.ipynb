{
 "cells": [
  {
   "cell_type": "code",
   "execution_count": null,
   "metadata": {
    "tags": []
   },
   "outputs": [],
   "source": [
    "import os, sys, pathlib\n",
    "sys.path.insert(0, str(pathlib.Path(os.getcwd()).parents[2]))\n",
    "sys.path.insert(0, str(pathlib.Path(os.getcwd()).parents[2]) + '/brPY/')\n",
    "import datajoint as dj\n",
    "from churchland_pipeline import action, acquisition, equipment, lab, processing, reference\n",
    "from churchland_pipeline.rigs.Jumanji import speedgoat\n",
    "from churchland_pipeline.tasks.pacman import pacman_acquisition, pacman_processing\n",
    "images_path = '/Users/Najja/Documents/code/data-synthesis/datajoint-churchland/churchland_pipeline/images/'"
   ]
  },
  {
   "cell_type": "code",
   "execution_count": null,
   "metadata": {},
   "outputs": [],
   "source": [
    "import re, inspect\n",
    "import pandas as pd\n",
    "import numpy as np\n",
    "from datetime import datetime\n",
    "from brpylib import NsxFile, brpylib_ver\n",
    "import djutils as dju"
   ]
  },
  {
   "cell_type": "code",
   "execution_count": null,
   "metadata": {},
   "outputs": [],
   "source": [
    "# aggregate pipelines\n",
    "Pipeline = {'common': dj.ERD(action) + dj.ERD(acquisition) + dj.ERD(equipment) + dj.ERD(lab) + dj.ERD(processing) + dj.ERD(reference),\n",
    "            'pacman': dj.ERD(pacman_acquisition) + dj.ERD(pacman_processing),\n",
    "            'emg': (dj.ERD(acq.EmgChannelGroup)-1) + (dj.ERD(pro.MotorUnit)-1+10) - dj.ERD(ppro),\n",
    "            'neural': (dj.ERD(acq.NeuralChannelGroup)-1) + (dj.ERD(pro.Neuron)-1+10) - dj.ERD(ppro)}"
   ]
  },
  {
   "cell_type": "markdown",
   "metadata": {},
   "source": [
    "### Questions"
   ]
  },
  {
   "cell_type": "code",
   "execution_count": null,
   "metadata": {},
   "outputs": [],
   "source": [
    "\"\"\"\n",
    "pre-allocate Master-Part Lookup tables?\n",
    "would it be better to consolidate equipments into a single table? In most cases that will work, but some have extra important fields (e.g. loadcell)\n",
    "\n",
    "inconsistency in ERD drawings\n",
    "import common not working (missing modules?)\n",
    "some way to impose a populate constraint between tables (don't want to inherit keys, but want one populated before another)\n",
    "proj not working for dependent table in matlab\n",
    "get/set functions? (e.g. to ensure proper formatting)\n",
    "\"\"\""
   ]
  },
  {
   "cell_type": "code",
   "execution_count": null,
   "metadata": {},
   "outputs": [],
   "source": [
    "\"\"\"\n",
    "- Part tables should be (conceptually) populated at the same time as the master table\n",
    "- Things that might change later should be manual tables that depend on the imported one\n",
    "- Shan's suggestion for using flexible task parameters typically works best if you have a model that may depend on few parameters and\n",
    "sometimes more parameters\n",
    "- can save pngs as attachments\n",
    "\n",
    "use dict.update() to insert multiple keys at once\n",
    "insert a list of keys in acq.EphysRecording to improve performance\n",
    "dict(**key) will create a copy of all the key fields (same as .copy())\n",
    "\"\"\""
   ]
  }
 ],
 "metadata": {
  "kernelspec": {
   "display_name": "Python 3",
   "language": "python",
   "name": "python3"
  },
  "language_info": {
   "codemirror_mode": {
    "name": "ipython",
    "version": 3
   },
   "file_extension": ".py",
   "mimetype": "text/x-python",
   "name": "python",
   "nbconvert_exporter": "python",
   "pygments_lexer": "ipython3",
   "version": "3.8.2-final"
  }
 },
 "nbformat": 4,
 "nbformat_minor": 4
}