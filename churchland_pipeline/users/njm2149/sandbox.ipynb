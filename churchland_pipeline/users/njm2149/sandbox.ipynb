{
 "cells": [
  {
   "cell_type": "code",
   "execution_count": 1,
   "metadata": {},
   "outputs": [],
   "source": [
    "import os\n",
    "import re\n",
    "import sys\n",
    "import pandas as pd\n",
    "import numpy as np\n",
    "from datetime import datetime\n",
    "from itertools import compress\n",
    "from pathlib import Path\n",
    "sys.path.insert(0, str(Path(os.getcwd()).parents[2]))\n",
    "sys.path.insert(0, str(Path(os.getcwd()).parents[2]) + '/brPY/')\n",
    "from brpylib import NsxFile, brpylib_ver"
   ]
  },
  {
   "cell_type": "code",
   "execution_count": 2,
   "metadata": {},
   "outputs": [
    {
     "name": "stdout",
     "output_type": "stream",
     "text": [
      "Connecting ChurchlandLab_test@s1n4.u19motor.zi.columbia.edu:3306\n"
     ]
    }
   ],
   "source": [
    "import datajoint as dj\n",
    "from churchland_pipeline import acquisition as acq\n",
    "from churchland_pipeline import action      as act\n",
    "from churchland_pipeline import ephys       as eph\n",
    "from churchland_pipeline import lab\n",
    "from churchland_pipeline import processing  as pro\n",
    "from churchland_pipeline import reference   as ref\n",
    "from churchland_pipeline.rigs.Jumanji import speedgoat as sg\n",
    "from churchland_pipeline.tasks.pacman import pacman as pac\n",
    "from churchland_pipeline import common as com"
   ]
  },
  {
   "cell_type": "code",
   "execution_count": null,
   "metadata": {},
   "outputs": [],
   "source": [
    "# aggregate pipelines\n",
    "Pipeline = {'common': dj.ERD(acq) + dj.ERD(act) + dj.ERD(eph) + dj.ERD(lab) + dj.ERD(pro) + dj.ERD(ref),\n",
    "            'pacman': dj.ERD(pac),\n",
    "            'emg': (dj.ERD(acq.EmgChannelGroup)-1) + (dj.ERD(pro.MotorUnit)-1+10),\n",
    "            'neural': (dj.ERD(acq.NeuralChannelGroup)-1) + (dj.ERD(pro.Neuron)-1+10)}"
   ]
  },
  {
   "cell_type": "code",
   "execution_count": null,
   "metadata": {},
   "outputs": [],
   "source": [
    "(acq.EngramPath & {'engram_tier':'locker'}).get_local_path()"
   ]
  },
  {
   "cell_type": "code",
   "execution_count": null,
   "metadata": {},
   "outputs": [],
   "source": [
    "not acq.Session & {'session_date':'2019-01-30'}"
   ]
  },
  {
   "cell_type": "code",
   "execution_count": null,
   "metadata": {},
   "outputs": [],
   "source": [
    "test"
   ]
  },
  {
   "cell_type": "code",
   "execution_count": 4,
   "metadata": {},
   "outputs": [
    {
     "data": {
      "text/plain": [
       "'/Volumes/Churchland-locker/Jumanji/pacman-task/cousteau/raw/'"
      ]
     },
     "execution_count": 4,
     "metadata": {},
     "output_type": "execute_result"
    }
   ],
   "source": [
    "acq.Session.getrawpath('Cousteau','Jumanji','pacman')"
   ]
  },
  {
   "cell_type": "code",
   "execution_count": null,
   "metadata": {},
   "outputs": [],
   "source": [
    "os.path.isdir('/srv')"
   ]
  },
  {
   "cell_type": "code",
   "execution_count": null,
   "metadata": {},
   "outputs": [],
   "source": [
    "os.path.sep.join(['','srv','locker','churchland'])"
   ]
  },
  {
   "cell_type": "code",
   "execution_count": null,
   "metadata": {},
   "outputs": [],
   "source": [
    "path = acq.Path().fetch1('local_path')"
   ]
  },
  {
   "cell_type": "code",
   "execution_count": null,
   "metadata": {},
   "outputs": [],
   "source": [
    "local_os = sys.platform\n",
    "local_os = local_os[:(min(3, len(local_os)))]\n",
    "home = '~'"
   ]
  },
  {
   "cell_type": "code",
   "execution_count": null,
   "metadata": {},
   "outputs": [],
   "source": [
    "path = path.replace(os.path.sep, '/')\n",
    "path = path.replace('~', home)\n",
    "globs = dj.U('global_path') & acq.Path\n",
    "systems = ['linux', 'windows', 'mac']\n",
    "mapping = [[], []]"
   ]
  },
  {
   "cell_type": "code",
   "execution_count": null,
   "metadata": {},
   "outputs": [],
   "source": [
    "globs.fetch('KEY')"
   ]
  },
  {
   "cell_type": "code",
   "execution_count": null,
   "metadata": {},
   "outputs": [],
   "source": [
    "acq.Path().get_local_path(acq.Path().fetch1('global_path'))"
   ]
  },
  {
   "cell_type": "code",
   "execution_count": null,
   "metadata": {},
   "outputs": [],
   "source": [
    "# locate summary file (temporary until behavior recording filepath attribute update)\n",
    "sgPath = rawPath + dates[17] + '/speedgoat/'\n",
    "sgFiles = sorted(list(os.listdir(sgPath)))\n",
    "summaryFile = [x for x in sgFiles if re.search('.*\\.summary',x) is not None][0]\n",
    "\n",
    "# speedgoat prefix\n",
    "sgPrefix = sgPath + re.search('(.*)\\.summary',summaryFile).group(1)"
   ]
  },
  {
   "cell_type": "code",
   "execution_count": null,
   "metadata": {},
   "outputs": [],
   "source": [
    "taskState = sg.readtaskstates(sgPrefix + '.summary')\n",
    "taskState"
   ]
  },
  {
   "cell_type": "code",
   "execution_count": null,
   "metadata": {},
   "outputs": [],
   "source": [
    "params = sg.readtrialparams(sgPrefix, 1)\n",
    "params"
   ]
  },
  {
   "cell_type": "code",
   "execution_count": null,
   "metadata": {},
   "outputs": [],
   "source": [
    "data = sg.readtrialdata(sgPrefix,1)\n",
    "data"
   ]
  },
  {
   "cell_type": "markdown",
   "metadata": {},
   "source": [
    "### Questions"
   ]
  },
  {
   "cell_type": "code",
   "execution_count": null,
   "metadata": {},
   "outputs": [],
   "source": [
    "\"\"\"\n",
    "how to call \"self\" in method def\n",
    "thoughts on Lookup tables that are automatically populated (or that can be)\n",
    "thoughts on Import tables with some fields requiring manual entry (e.g. NeuralChannelGroup.hemisphere or notes)\n",
    "GUIs for storing meta data for auto import?\n",
    "may need to rethink the Condition table. use Shan's method for longblob values only?\n",
    "rename ForceParams to LoadCellParams? Or maybe add equipment to Jumanji schema...\n",
    "\n",
    "Questions relevant for lab meeting next week:\n",
    "- Prospects on distributed computing (e.g. working locally but offloading computations to s1n4 or all servers or the cloud)\n",
    "- How might this help package and share code for publications (any examples of other groups doing this?)\n",
    "\"\"\""
   ]
  },
  {
   "cell_type": "code",
   "execution_count": null,
   "metadata": {},
   "outputs": [],
   "source": [
    "\"\"\"\n",
    "- Part tables should be (conceptually) populated at the same time as the master table\n",
    "- Things that might change later should be manual tables that depend on the imported one\n",
    "- Shan's suggestion for using flexible task parameters typically works best if you have a model that may depend on few parameters and\n",
    "sometimes more parameters\n",
    "- can save pngs as attachments\n",
    "\n",
    "use os.path.join to create raw path names\n",
    "use dict.update() to insert multiple keys at once\n",
    "insert a list of keys in acq.EphysRecording to improve performance\n",
    "dict(**key) will create a copy of all the key fields (same as .copy())\n",
    "\"\"\""
   ]
  }
 ],
 "metadata": {
  "kernelspec": {
   "display_name": "Python 3",
   "language": "python",
   "name": "python3"
  },
  "language_info": {
   "codemirror_mode": {
    "name": "ipython",
    "version": 3
   },
   "file_extension": ".py",
   "mimetype": "text/x-python",
   "name": "python",
   "nbconvert_exporter": "python",
   "pygments_lexer": "ipython3",
   "version": "3.8.2"
  }
 },
 "nbformat": 4,
 "nbformat_minor": 2
}
