{
 "cells": [
  {
   "cell_type": "code",
   "execution_count": 1,
   "metadata": {
    "tags": []
   },
   "outputs": [
    {
     "output_type": "stream",
     "name": "stdout",
     "text": "Connecting ChurchlandLab_test@s1n4.u19motor.zi.columbia.edu:3306\n"
    }
   ],
   "source": [
    "import os, sys, pathlib\n",
    "os.chdir('/home/njm2149/Documents/datajoint-churchland/churchland_pipeline/users/njm2149')\n",
    "sys.path.insert(0, str(pathlib.Path(os.getcwd()).parents[2]))\n",
    "sys.path.insert(0, str(pathlib.Path(os.getcwd()).parents[2]) + '/brPY/')\n",
    "import datajoint as dj\n",
    "from churchland_pipeline_python import action, acquisition, equipment, lab, processing, reference\n",
    "from churchland_pipeline_python.utilities import speedgoat, datasync, datajoint_utils as dju\n",
    "from churchland_pipeline_python.tasks.pacman import pacman_acquisition, pacman_processing\n",
    "images_path = '/home/njm2149/Documents/datajoint-churchland/churchland_pipeline/images/'"
   ]
  },
  {
   "cell_type": "code",
   "execution_count": 2,
   "metadata": {
    "tags": []
   },
   "outputs": [],
   "source": [
    "import re, inspect\n",
    "import pandas as pd\n",
    "import numpy as np\n",
    "import matplotlib.pyplot as plt\n",
    "from datetime import datetime\n",
    "from brpylib import NsxFile, brpylib_ver\n",
    "from itertools import compress, chain\n",
    "from functools import reduce\n",
    "import warnings\n",
    "import timeit\n",
    "\n",
    "%load_ext autoreload\n",
    "%autoreload 2"
   ]
  },
  {
   "cell_type": "code",
   "execution_count": 3,
   "metadata": {
    "tags": []
   },
   "outputs": [
    {
     "output_type": "execute_result",
     "data": {
      "text/plain": "<datajoint.diagram.Diagram at 0x7f6b3380e518>",
      "image/svg+xml": "<svg height=\"513pt\" viewBox=\"0.00 0.00 2043.00 513.00\" width=\"2043pt\" xmlns=\"http://www.w3.org/2000/svg\" xmlns:xlink=\"http://www.w3.org/1999/xlink\">\n<g class=\"graph\" id=\"graph0\" transform=\"scale(1 1) rotate(0) translate(4 509)\">\n<title>%3</title>\n<polygon fill=\"#ffffff\" points=\"-4,4 -4,-509 2039,-509 2039,4 -4,4\" stroke=\"transparent\"/>\n<!-- pacman_processing.NeuronSpikes -->\n<g class=\"node\" id=\"node1\">\n<title>pacman_processing.NeuronSpikes</title>\n<g id=\"a_node1\"><a xlink:title=\"→ processing.Neuron\r→ pacman_processing.TrialAlignment\r------------------------------\rneuron_spikes        \r\">\n<ellipse cx=\"397.5\" cy=\"-141.5\" fill=\"#ff0000\" fill-opacity=\"0.125490\" rx=\"13\" ry=\"13\" stroke=\"#ff0000\" stroke-opacity=\"0.125490\"/>\n<text fill=\"#7f0000\" font-family=\"arial\" font-size=\"12.00\" text-anchor=\"middle\" x=\"397.5\" y=\"-138.4\">pacman_processing.NeuronSpikes</text>\n</a>\n</g>\n</g>\n<!-- pacman_processing.NeuronRate -->\n<g class=\"node\" id=\"node4\">\n<title>pacman_processing.NeuronRate</title>\n<g id=\"a_node4\"><a xlink:title=\"→ pacman_processing.NeuronSpikes\r------------------------------\rneuron_rate          \r→ pacman_processing.SpikeFilter\r\">\n<ellipse cx=\"647.5\" cy=\"-75\" fill=\"#ff0000\" fill-opacity=\"0.125490\" rx=\"13\" ry=\"13\" stroke=\"#ff0000\" stroke-opacity=\"0.125490\"/>\n<text fill=\"#7f0000\" font-family=\"arial\" font-size=\"12.00\" text-anchor=\"middle\" x=\"647.5\" y=\"-71.9\">pacman_processing.NeuronRate</text>\n</a>\n</g>\n</g>\n<!-- pacman_processing.NeuronSpikes&#45;&gt;pacman_processing.NeuronRate -->\n<g class=\"edge\" id=\"edge1\">\n<title>pacman_processing.NeuronSpikes-&gt;pacman_processing.NeuronRate</title>\n<path d=\"M410.2412,-138.1108C453.1267,-126.7033 591.9372,-89.7797 634.7844,-78.3823\" fill=\"none\" stroke=\"#000000\" stroke-opacity=\"0.250980\" stroke-width=\"2\"/>\n</g>\n<!-- pacman_processing.AlignmentState -->\n<g class=\"node\" id=\"node2\">\n<title>pacman_processing.AlignmentState</title>\n<g id=\"a_node2\"><a xlink:title=\"→ pacman_acquisition.TaskState\r\">\n<polygon fill=\"#000000\" fill-opacity=\"0.125490\" points=\"173,-292 0,-292 0,-257 173,-257 173,-292\" stroke=\"transparent\"/>\n<text fill=\"#000000\" font-family=\"arial\" font-size=\"10.00\" text-anchor=\"middle\" x=\"86.5\" y=\"-272\">pacman_processing.AlignmentState</text>\n</a>\n</g>\n</g>\n<!-- pacman_processing.TrialAlignment -->\n<g class=\"node\" id=\"node14\">\n<title>pacman_processing.TrialAlignment</title>\n<g id=\"a_node14\"><a xlink:title=\"→ pacman_processing.EphysTrialStart\r→ pacman_processing.AlignmentState\r------------------------------\rbehavior_alignment   \rephys_alignment      \r\">\n<ellipse cx=\"392.5\" cy=\"-208\" fill=\"#ff0000\" fill-opacity=\"0.125490\" rx=\"13\" ry=\"13\" stroke=\"#ff0000\" stroke-opacity=\"0.125490\"/>\n<text fill=\"#7f0000\" font-family=\"arial\" font-size=\"12.00\" text-anchor=\"middle\" x=\"392.5\" y=\"-204.9\">pacman_processing.TrialAlignment</text>\n</a>\n</g>\n</g>\n<!-- pacman_processing.AlignmentState&#45;&gt;pacman_processing.TrialAlignment -->\n<g class=\"edge\" id=\"edge2\">\n<title>pacman_processing.AlignmentState-&gt;pacman_processing.TrialAlignment</title>\n<path d=\"M167.2982,-256.9409C241.1355,-240.8946 344.0828,-218.522 379.7438,-210.7722\" fill=\"none\" stroke=\"#000000\" stroke-opacity=\"0.250980\" stroke-width=\".75\"/>\n</g>\n<!-- pacman_processing.SpikeFilter -->\n<g class=\"node\" id=\"node3\">\n<title>pacman_processing.SpikeFilter</title>\n<g id=\"a_node3\"><a xlink:title=\"→ processing.Filter\r\">\n<polygon fill=\"#000000\" fill-opacity=\"0.125490\" points=\"973,-434 820,-434 820,-399 973,-399 973,-434\" stroke=\"transparent\"/>\n<text fill=\"#000000\" font-family=\"arial\" font-size=\"10.00\" text-anchor=\"middle\" x=\"896.5\" y=\"-414\">pacman_processing.SpikeFilter</text>\n</a>\n</g>\n</g>\n<!-- pacman_processing.SpikeFilter&#45;&gt;pacman_processing.NeuronRate -->\n<g class=\"edge\" id=\"edge3\">\n<title>pacman_processing.SpikeFilter-&gt;pacman_processing.NeuronRate</title>\n<path d=\"M951.4404,-398.9962C969.4788,-390.7284 988.0675,-379.0533 1000.5,-363 1025.1911,-331.1178 1020.5,-314.8252 1020.5,-274.5 1020.5,-274.5 1020.5,-274.5 1020.5,-208 1020.5,-167.3825 1016.708,-148.7472 984.5,-124 932.3444,-83.9259 716.2783,-76.497 660.6228,-75.2389\" fill=\"none\" stroke=\"#000000\" stroke-dasharray=\"5,2\" stroke-opacity=\"0.250980\" stroke-width=\".75\"/>\n</g>\n<!-- pacman_processing.MotorUnitRate -->\n<g class=\"node\" id=\"node10\">\n<title>pacman_processing.MotorUnitRate</title>\n<g id=\"a_node10\"><a xlink:title=\"→ pacman_processing.MotorUnitSpikes\r------------------------------\rmotor_unit_rate      \r→ pacman_processing.SpikeFilter\r\">\n<ellipse cx=\"962.5\" cy=\"-75\" fill=\"#ff0000\" fill-opacity=\"0.125490\" rx=\"13\" ry=\"13\" stroke=\"#ff0000\" stroke-opacity=\"0.125490\"/>\n<text fill=\"#7f0000\" font-family=\"arial\" font-size=\"12.00\" text-anchor=\"middle\" x=\"962.5\" y=\"-71.9\">pacman_processing.MotorUnitRate</text>\n</a>\n</g>\n</g>\n<!-- pacman_processing.SpikeFilter&#45;&gt;pacman_processing.MotorUnitRate -->\n<g class=\"edge\" id=\"edge4\">\n<title>pacman_processing.SpikeFilter-&gt;pacman_processing.MotorUnitRate</title>\n<path d=\"M973.2916,-400.7821C995.6855,-392.8066 1018.4265,-380.8569 1034.5,-363 1061.7651,-332.7097 1058.5,-315.254 1058.5,-274.5 1058.5,-274.5 1058.5,-274.5 1058.5,-208 1058.5,-169.1727 1057.242,-155.47 1034.5,-124 1018.9131,-102.4311 990.727,-87.3593 974.6328,-80.0457\" fill=\"none\" stroke=\"#000000\" stroke-dasharray=\"5,2\" stroke-opacity=\"0.250980\" stroke-width=\".75\"/>\n</g>\n<!-- pacman_processing.NeuronPsth -->\n<g class=\"node\" id=\"node17\">\n<title>pacman_processing.NeuronPsth</title>\n<g id=\"a_node17\"><a xlink:title=\"→ processing.Neuron\r→ pacman_acquisition.Behavior.Condition\r→ pacman_acquisition.SessionBlock\r------------------------------\rneuron_psth          \r→ pacman_processing.SpikeFilter\r\">\n<ellipse cx=\"896.5\" cy=\"-345.5\" fill=\"#ff0000\" fill-opacity=\"0.125490\" rx=\"13\" ry=\"13\" stroke=\"#ff0000\" stroke-opacity=\"0.125490\"/>\n<text fill=\"#7f0000\" font-family=\"arial\" font-size=\"12.00\" text-anchor=\"middle\" x=\"896.5\" y=\"-342.4\">pacman_processing.NeuronPsth</text>\n</a>\n</g>\n</g>\n<!-- pacman_processing.SpikeFilter&#45;&gt;pacman_processing.NeuronPsth -->\n<g class=\"edge\" id=\"edge5\">\n<title>pacman_processing.SpikeFilter-&gt;pacman_processing.NeuronPsth</title>\n<path d=\"M896.5,-398.9494C896.5,-386.4658 896.5,-369.9634 896.5,-358.6156\" fill=\"none\" stroke=\"#000000\" stroke-dasharray=\"5,2\" stroke-opacity=\"0.250980\" stroke-width=\".75\"/>\n</g>\n<!-- pacman_processing.MotorUnitPsth -->\n<g class=\"node\" id=\"node21\">\n<title>pacman_processing.MotorUnitPsth</title>\n<g id=\"a_node21\"><a xlink:title=\"→ processing.MotorUnit\r→ pacman_acquisition.Behavior.Condition\r→ pacman_acquisition.SessionBlock\r------------------------------\rmotor_unit_psth      \r→ pacman_processing.SpikeFilter\r\">\n<ellipse cx=\"681.5\" cy=\"-345.5\" fill=\"#ff0000\" fill-opacity=\"0.125490\" rx=\"13\" ry=\"13\" stroke=\"#ff0000\" stroke-opacity=\"0.125490\"/>\n<text fill=\"#7f0000\" font-family=\"arial\" font-size=\"12.00\" text-anchor=\"middle\" x=\"681.5\" y=\"-342.4\">pacman_processing.MotorUnitPsth</text>\n</a>\n</g>\n</g>\n<!-- pacman_processing.SpikeFilter&#45;&gt;pacman_processing.MotorUnitPsth -->\n<g class=\"edge\" id=\"edge6\">\n<title>pacman_processing.SpikeFilter-&gt;pacman_processing.MotorUnitPsth</title>\n<path d=\"M843.3539,-398.9494C793.6136,-382.5235 722.8047,-359.1402 694.206,-349.6959\" fill=\"none\" stroke=\"#000000\" stroke-dasharray=\"5,2\" stroke-opacity=\"0.250980\" stroke-width=\".75\"/>\n</g>\n<!-- pacman_acquisition.Behavior -->\n<g class=\"node\" id=\"node5\">\n<title>pacman_acquisition.Behavior</title>\n<g id=\"a_node5\"><a xlink:title=\"→ acquisition.BehaviorRecording\r\">\n<ellipse cx=\"315.5\" cy=\"-487.5\" fill=\"#00007f\" fill-opacity=\"0.250980\" rx=\"109.2501\" ry=\"17.5\" stroke=\"#00007f\" stroke-opacity=\"0.250980\"/>\n<text fill=\"#00007f\" font-family=\"arial\" font-size=\"12.00\" text-anchor=\"middle\" x=\"315.5\" y=\"-484.4\">pacman_acquisition.Behavior</text>\n</a>\n</g>\n</g>\n<!-- pacman_acquisition.Behavior.Trial -->\n<g class=\"node\" id=\"node9\">\n<title>pacman_acquisition.Behavior.Trial</title>\n<g id=\"a_node9\"><a xlink:title=\"→ pacman_acquisition.Behavior\rtrial_number         \r------------------------------\r→ pacman_acquisition.Behavior.Condition\rsave_tag             \rsuccessful_trial     \rsimulation_time      \rtask_state           \rforce_raw_online     \rforce_filt_online    \rreward               \rphotobox             \rstim=null            \r\">\n<polygon fill=\"transparent\" points=\"337,-355 172,-355 172,-336 337,-336 337,-355\" stroke=\"transparent\"/>\n<text fill=\"#000000\" font-family=\"arial\" font-size=\"10.00\" text-anchor=\"start\" text-decoration=\"underline\" x=\"180\" y=\"-344\">pacman_acquisition.Behavior.Trial</text>\n</a>\n</g>\n</g>\n<!-- pacman_acquisition.Behavior&#45;&gt;pacman_acquisition.Behavior.Trial -->\n<g class=\"edge\" id=\"edge7\">\n<title>pacman_acquisition.Behavior-&gt;pacman_acquisition.Behavior.Trial</title>\n<path d=\"M298.0001,-470.1655C289.0631,-460.3464 278.7782,-447.3763 272.5,-434 259.9091,-407.1742 256.0984,-371.7207 254.9662,-355.0004\" fill=\"none\" stroke=\"#000000\" stroke-opacity=\"0.250980\" stroke-width=\".75\"/>\n</g>\n<!-- pacman_acquisition.Behavior.Condition -->\n<g class=\"node\" id=\"node24\">\n<title>pacman_acquisition.Behavior.Condition</title>\n<g id=\"a_node24\"><a xlink:title=\"→ pacman_acquisition.Behavior\r→ pacman_acquisition.ConditionParams\r\">\n<polygon fill=\"transparent\" points=\"469,-426 282,-426 282,-407 469,-407 469,-426\" stroke=\"transparent\"/>\n<text fill=\"#000000\" font-family=\"arial\" font-size=\"10.00\" text-anchor=\"middle\" x=\"375.5\" y=\"-414\">pacman_acquisition.Behavior.Condition</text>\n</a>\n</g>\n</g>\n<!-- pacman_acquisition.Behavior&#45;&gt;pacman_acquisition.Behavior.Condition -->\n<g class=\"edge\" id=\"edge8\">\n<title>pacman_acquisition.Behavior-&gt;pacman_acquisition.Behavior.Condition</title>\n<path d=\"M330.3315,-469.9494C341.9915,-456.1517 357.8002,-437.4447 367.2909,-426.2141\" fill=\"none\" stroke=\"#000000\" stroke-opacity=\"0.250980\" stroke-width=\".75\"/>\n</g>\n<!-- pacman_processing.GoodTrial -->\n<g class=\"node\" id=\"node6\">\n<title>pacman_processing.GoodTrial</title>\n<g id=\"a_node6\"><a xlink:title=\"→ pacman_processing.BehaviorQuality\r\">\n<ellipse cx=\"198.5\" cy=\"-13\" fill=\"#ff0000\" fill-opacity=\"0.125490\" rx=\"13\" ry=\"13\" stroke=\"#ff0000\" stroke-opacity=\"0.125490\"/>\n<text fill=\"#7f0000\" font-family=\"arial\" font-size=\"12.00\" text-anchor=\"middle\" x=\"198.5\" y=\"-9.9\">pacman_processing.GoodTrial</text>\n</a>\n</g>\n</g>\n<!-- pacman_acquisition.SessionBlock.SaveTag -->\n<g class=\"node\" id=\"node7\">\n<title>pacman_acquisition.SessionBlock.SaveTag</title>\n<g id=\"a_node7\"><a xlink:title=\"→ pacman_acquisition.SessionBlock\r→ acquisition.Session.SaveTag\r\">\n<polygon fill=\"transparent\" points=\"562,-355 355,-355 355,-336 562,-336 562,-355\" stroke=\"transparent\"/>\n<text fill=\"#000000\" font-family=\"arial\" font-size=\"10.00\" text-anchor=\"middle\" x=\"458.5\" y=\"-343\">pacman_acquisition.SessionBlock.SaveTag</text>\n</a>\n</g>\n</g>\n<!-- pacman_acquisition.ConditionParams -->\n<g class=\"node\" id=\"node8\">\n<title>pacman_acquisition.ConditionParams</title>\n<g id=\"a_node8\"><a xlink:title=\"condition_id         \r\">\n<polygon fill=\"#000000\" fill-opacity=\"0.125490\" points=\"1406.5,-505 1226.5,-505 1226.5,-470 1406.5,-470 1406.5,-505\" stroke=\"transparent\"/>\n<text fill=\"#000000\" font-family=\"arial\" font-size=\"10.00\" text-anchor=\"start\" text-decoration=\"underline\" x=\"1234.5\" y=\"-486\">pacman_acquisition.ConditionParams</text>\n</a>\n</g>\n</g>\n<!-- pacman_acquisition.ConditionParams&#45;&gt;pacman_acquisition.Behavior.Condition -->\n<g class=\"edge\" id=\"edge9\">\n<title>pacman_acquisition.ConditionParams-&gt;pacman_acquisition.Behavior.Condition</title>\n<path d=\"M1226.3136,-484.8344C1072.4732,-479.5966 749.642,-465.6014 478.5,-434 461.0242,-431.9632 442.0041,-428.9575 425.119,-426.0094\" fill=\"none\" stroke=\"#000000\" stroke-opacity=\"0.250980\" stroke-width=\".75\"/>\n</g>\n<!-- pacman_acquisition.ConditionParams.Force -->\n<g class=\"node\" id=\"node27\">\n<title>pacman_acquisition.ConditionParams.Force</title>\n<g id=\"a_node27\"><a xlink:title=\"→ pacman_acquisition.ConditionParams\rforce_id             \r------------------------------\rforce_max            \rforce_offset         \rforce_inverted       \r\">\n<polygon fill=\"transparent\" points=\"1420.5,-426 1212.5,-426 1212.5,-407 1420.5,-407 1420.5,-426\" stroke=\"transparent\"/>\n<text fill=\"#000000\" font-family=\"arial\" font-size=\"10.00\" text-anchor=\"start\" text-decoration=\"underline\" x=\"1220.5\" y=\"-415\">pacman_acquisition.ConditionParams.Force</text>\n</a>\n</g>\n</g>\n<!-- pacman_acquisition.ConditionParams&#45;&gt;pacman_acquisition.ConditionParams.Force -->\n<g class=\"edge\" id=\"edge10\">\n<title>pacman_acquisition.ConditionParams-&gt;pacman_acquisition.ConditionParams.Force</title>\n<path d=\"M1316.5,-469.9494C1316.5,-456.1517 1316.5,-437.4447 1316.5,-426.2141\" fill=\"none\" stroke=\"#000000\" stroke-opacity=\"0.250980\" stroke-width=\".75\"/>\n</g>\n<!-- pacman_acquisition.ConditionParams.Target -->\n<g class=\"node\" id=\"node28\">\n<title>pacman_acquisition.ConditionParams.Target</title>\n<g id=\"a_node28\"><a xlink:title=\"→ pacman_acquisition.ConditionParams\rtarget_id            \r------------------------------\rtarget_duration      \rtarget_offset        \rtarget_pad           \r\">\n<polygon fill=\"transparent\" points=\"1648.5,-426 1438.5,-426 1438.5,-407 1648.5,-407 1648.5,-426\" stroke=\"transparent\"/>\n<text fill=\"#000000\" font-family=\"arial\" font-size=\"10.00\" text-anchor=\"start\" text-decoration=\"underline\" x=\"1446.5\" y=\"-415\">pacman_acquisition.ConditionParams.Target</text>\n</a>\n</g>\n</g>\n<!-- pacman_acquisition.ConditionParams&#45;&gt;pacman_acquisition.ConditionParams.Target -->\n<g class=\"edge\" id=\"edge11\">\n<title>pacman_acquisition.ConditionParams-&gt;pacman_acquisition.ConditionParams.Target</title>\n<path d=\"M1372.6124,-469.9494C1416.9889,-456.0696 1477.2484,-437.2219 1513.0809,-426.0144\" fill=\"none\" stroke=\"#000000\" stroke-opacity=\"0.250980\" stroke-width=\".75\"/>\n</g>\n<!-- pacman_acquisition.ConditionParams.Stim -->\n<g class=\"node\" id=\"node29\">\n<title>pacman_acquisition.ConditionParams.Stim</title>\n<g id=\"a_node29\"><a xlink:title=\"→ pacman_acquisition.ConditionParams\rstim_id              \r------------------------------\rstim_current         \rstim_electrode       \rstim_polarity        \rstim_pulses          \rstim_width1          \rstim_width2          \rstim_interphase      \rstim_frequency       \r\">\n<polygon fill=\"transparent\" points=\"1194,-426 991,-426 991,-407 1194,-407 1194,-426\" stroke=\"transparent\"/>\n<text fill=\"#000000\" font-family=\"arial\" font-size=\"10.00\" text-anchor=\"start\" text-decoration=\"underline\" x=\"999\" y=\"-415\">pacman_acquisition.ConditionParams.Stim</text>\n</a>\n</g>\n</g>\n<!-- pacman_acquisition.ConditionParams&#45;&gt;pacman_acquisition.ConditionParams.Stim -->\n<g class=\"edge\" id=\"edge12\">\n<title>pacman_acquisition.ConditionParams-&gt;pacman_acquisition.ConditionParams.Stim</title>\n<path d=\"M1261.1292,-469.9494C1217.3392,-456.0696 1157.876,-437.2219 1122.5171,-426.0144\" fill=\"none\" stroke=\"#000000\" stroke-opacity=\"0.250980\" stroke-width=\".75\"/>\n</g>\n<!-- pacman_processing.EphysTrialStart -->\n<g class=\"node\" id=\"node23\">\n<title>pacman_processing.EphysTrialStart</title>\n<g id=\"a_node23\"><a xlink:title=\"→ pacman_acquisition.Behavior.Trial\r------------------------------\rephys_trial_start=null \r\">\n<ellipse cx=\"325.5\" cy=\"-274.5\" fill=\"#00007f\" fill-opacity=\"0.250980\" rx=\"130.7501\" ry=\"17.5\" stroke=\"#00007f\" stroke-opacity=\"0.250980\"/>\n<text fill=\"#00007f\" font-family=\"arial\" font-size=\"12.00\" text-anchor=\"middle\" x=\"325.5\" y=\"-271.4\">pacman_processing.EphysTrialStart</text>\n</a>\n</g>\n</g>\n<!-- pacman_acquisition.Behavior.Trial&#45;&gt;pacman_processing.EphysTrialStart -->\n<g class=\"edge\" id=\"edge13\">\n<title>pacman_acquisition.Behavior.Trial-&gt;pacman_processing.EphysTrialStart</title>\n<path d=\"M264.0754,-335.9246C275.2794,-324.7206 294.0586,-305.9414 307.9095,-292.0905\" fill=\"none\" stroke=\"#000000\" stroke-opacity=\"0.250980\" stroke-width=\"2\"/>\n</g>\n<!-- pacman_acquisition.TaskState -->\n<g class=\"node\" id=\"node11\">\n<title>pacman_acquisition.TaskState</title>\n<g id=\"a_node11\"><a xlink:title=\"task_state_id        \r------------------------------\rtask_state_name      \r\">\n<polygon fill=\"#000000\" fill-opacity=\"0.125490\" points=\"153.5,-363 3.5,-363 3.5,-328 153.5,-328 153.5,-363\" stroke=\"transparent\"/>\n<text fill=\"#000000\" font-family=\"arial\" font-size=\"10.00\" text-anchor=\"start\" text-decoration=\"underline\" x=\"11.5\" y=\"-344\">pacman_acquisition.TaskState</text>\n</a>\n</g>\n</g>\n<!-- pacman_acquisition.TaskState&#45;&gt;pacman_processing.AlignmentState -->\n<g class=\"edge\" id=\"edge14\">\n<title>pacman_acquisition.TaskState-&gt;pacman_processing.AlignmentState</title>\n<path d=\"M80.4775,-327.9494C81.6991,-317.1083 83.2621,-303.2366 84.4897,-292.3418\" fill=\"none\" stroke=\"#000000\" stroke-opacity=\"0.250980\" stroke-width=\"2\"/>\n</g>\n<!-- pacman_acquisition.ArmPosture -->\n<g class=\"node\" id=\"node12\">\n<title>pacman_acquisition.ArmPosture</title>\n<g id=\"a_node12\"><a xlink:title=\"→ lab.Monkey\rposture_id           \r------------------------------\relbow_angle          \rshoulder_angle       \r\">\n<polygon fill=\"#000000\" fill-opacity=\"0.125490\" points=\"666.5,-505 508.5,-505 508.5,-470 666.5,-470 666.5,-505\" stroke=\"transparent\"/>\n<text fill=\"#000000\" font-family=\"arial\" font-size=\"10.00\" text-anchor=\"start\" text-decoration=\"underline\" x=\"516.5\" y=\"-486\">pacman_acquisition.ArmPosture</text>\n</a>\n</g>\n</g>\n<!-- pacman_acquisition.SessionBlock -->\n<g class=\"node\" id=\"node20\">\n<title>pacman_acquisition.SessionBlock</title>\n<g id=\"a_node20\"><a xlink:title=\"→ acquisition.Session\rblock_id             \r------------------------------\r→ pacman_acquisition.ArmPosture\r\">\n<polygon fill=\"#00ff00\" fill-opacity=\"0.188235\" points=\"687.5,-434 487.5,-434 487.5,-399 687.5,-399 687.5,-434\" stroke=\"#00ff00\" stroke-opacity=\"0.188235\"/>\n<text fill=\"#006400\" font-family=\"arial\" font-size=\"12.00\" text-anchor=\"start\" text-decoration=\"underline\" x=\"495.5\" y=\"-414.4\">pacman_acquisition.SessionBlock</text>\n</a>\n</g>\n</g>\n<!-- pacman_acquisition.ArmPosture&#45;&gt;pacman_acquisition.SessionBlock -->\n<g class=\"edge\" id=\"edge15\">\n<title>pacman_acquisition.ArmPosture-&gt;pacman_acquisition.SessionBlock</title>\n<path d=\"M587.5,-469.9494C587.5,-459.1083 587.5,-445.2366 587.5,-434.3418\" fill=\"none\" stroke=\"#000000\" stroke-dasharray=\"5,2\" stroke-opacity=\"0.250980\" stroke-width=\".75\"/>\n</g>\n<!-- pacman_processing.Emg -->\n<g class=\"node\" id=\"node13\">\n<title>pacman_processing.Emg</title>\n<g id=\"a_node13\"><a xlink:title=\"→ acquisition.EmgChannelGroup\r→ pacman_processing.TrialAlignment\remg_channel          \r------------------------------\remg_voltage_signal   \r\">\n<ellipse cx=\"612.5\" cy=\"-141.5\" fill=\"#00007f\" fill-opacity=\"0.250980\" rx=\"95\" ry=\"17.5\" stroke=\"#00007f\" stroke-opacity=\"0.250980\"/>\n<text fill=\"#00007f\" font-family=\"arial\" font-size=\"12.00\" text-anchor=\"start\" text-decoration=\"underline\" x=\"544.5\" y=\"-139.4\">pacman_processing.Emg</text>\n</a>\n</g>\n</g>\n<!-- pacman_processing.TrialAlignment&#45;&gt;pacman_processing.NeuronSpikes -->\n<g class=\"edge\" id=\"edge16\">\n<title>pacman_processing.TrialAlignment-&gt;pacman_processing.NeuronSpikes</title>\n<path d=\"M393.4878,-194.8617C394.3644,-183.2034 395.6383,-166.2611 396.5142,-154.611\" fill=\"none\" stroke=\"#000000\" stroke-opacity=\"0.250980\" stroke-width=\".75\"/>\n</g>\n<!-- pacman_processing.TrialAlignment&#45;&gt;pacman_processing.Emg -->\n<g class=\"edge\" id=\"edge17\">\n<title>pacman_processing.TrialAlignment-&gt;pacman_processing.Emg</title>\n<path d=\"M404.9585,-204.2341C434.7729,-195.222 511.5627,-172.0106 562.9049,-156.4913\" fill=\"none\" stroke=\"#000000\" stroke-opacity=\"0.250980\" stroke-width=\".75\"/>\n</g>\n<!-- pacman_processing.MotorUnitSpikes -->\n<g class=\"node\" id=\"node18\">\n<title>pacman_processing.MotorUnitSpikes</title>\n<g id=\"a_node18\"><a xlink:title=\"→ processing.MotorUnit\r→ pacman_processing.TrialAlignment\r------------------------------\rmotor_unit_spikes    \r\">\n<ellipse cx=\"867.5\" cy=\"-141.5\" fill=\"#ff0000\" fill-opacity=\"0.125490\" rx=\"13\" ry=\"13\" stroke=\"#ff0000\" stroke-opacity=\"0.125490\"/>\n<text fill=\"#7f0000\" font-family=\"arial\" font-size=\"12.00\" text-anchor=\"middle\" x=\"867.5\" y=\"-138.4\">pacman_processing.MotorUnitSpikes</text>\n</a>\n</g>\n</g>\n<!-- pacman_processing.TrialAlignment&#45;&gt;pacman_processing.MotorUnitSpikes -->\n<g class=\"edge\" id=\"edge18\">\n<title>pacman_processing.TrialAlignment-&gt;pacman_processing.MotorUnitSpikes</title>\n<path d=\"M405.7,-206.152C474.0251,-196.5865 786.9518,-152.7767 854.5872,-143.3078\" fill=\"none\" stroke=\"#000000\" stroke-opacity=\"0.250980\" stroke-width=\".75\"/>\n</g>\n<!-- pacman_processing.Force -->\n<g class=\"node\" id=\"node19\">\n<title>pacman_processing.Force</title>\n<g id=\"a_node19\"><a xlink:title=\"→ pacman_processing.TrialAlignment\r------------------------------\rforce_raw=null       \rforce_filt=null      \r\">\n<ellipse cx=\"198.5\" cy=\"-141.5\" fill=\"#ff0000\" fill-opacity=\"0.125490\" rx=\"13\" ry=\"13\" stroke=\"#ff0000\" stroke-opacity=\"0.125490\"/>\n<text fill=\"#7f0000\" font-family=\"arial\" font-size=\"12.00\" text-anchor=\"middle\" x=\"198.5\" y=\"-138.4\">pacman_processing.Force</text>\n</a>\n</g>\n</g>\n<!-- pacman_processing.TrialAlignment&#45;&gt;pacman_processing.Force -->\n<g class=\"edge\" id=\"edge19\">\n<title>pacman_processing.TrialAlignment-&gt;pacman_processing.Force</title>\n<path d=\"M380.0693,-203.739C345.1126,-191.7564 246.2142,-157.8556 211.0782,-145.8116\" fill=\"none\" stroke=\"#000000\" stroke-opacity=\"0.250980\" stroke-width=\"2\"/>\n</g>\n<!-- pacman_acquisition.ConditionParams.Chirp -->\n<g class=\"node\" id=\"node15\">\n<title>pacman_acquisition.ConditionParams.Chirp</title>\n<g id=\"a_node15\"><a xlink:title=\"→ pacman_acquisition.ConditionParams.Target\r------------------------------\rtarget_amplitude     \rtarget_frequency_init \rtarget_frequency_final \r\">\n<polygon fill=\"transparent\" points=\"1807.5,-355 1601.5,-355 1601.5,-336 1807.5,-336 1807.5,-355\" stroke=\"transparent\"/>\n<text fill=\"#000000\" font-family=\"arial\" font-size=\"10.00\" text-anchor=\"middle\" x=\"1704.5\" y=\"-343\">pacman_acquisition.ConditionParams.Chirp</text>\n</a>\n</g>\n</g>\n<!-- pacman_processing.BehaviorQuality -->\n<g class=\"node\" id=\"node16\">\n<title>pacman_processing.BehaviorQuality</title>\n<g id=\"a_node16\"><a xlink:title=\"→ pacman_processing.Force\r------------------------------\rmax_err_target       \rmax_err_mean         \rmah_dist_target      \rmah_dist_mean        \r\">\n<ellipse cx=\"198.5\" cy=\"-75\" fill=\"#ff0000\" fill-opacity=\"0.125490\" rx=\"13\" ry=\"13\" stroke=\"#ff0000\" stroke-opacity=\"0.125490\"/>\n<text fill=\"#7f0000\" font-family=\"arial\" font-size=\"12.00\" text-anchor=\"middle\" x=\"198.5\" y=\"-71.9\">pacman_processing.BehaviorQuality</text>\n</a>\n</g>\n</g>\n<!-- pacman_processing.BehaviorQuality&#45;&gt;pacman_processing.GoodTrial -->\n<g class=\"edge\" id=\"edge20\">\n<title>pacman_processing.BehaviorQuality-&gt;pacman_processing.GoodTrial</title>\n<path d=\"M198.5,-61.8514C198.5,-51.3298 198.5,-36.6463 198.5,-26.1297\" fill=\"none\" stroke=\"#000000\" stroke-opacity=\"0.250980\" stroke-width=\"2\"/>\n</g>\n<!-- pacman_processing.MotorUnitSpikes&#45;&gt;pacman_processing.MotorUnitRate -->\n<g class=\"edge\" id=\"edge21\">\n<title>pacman_processing.MotorUnitSpikes-&gt;pacman_processing.MotorUnitRate</title>\n<path d=\"M878.3977,-133.8716C896.7229,-121.044 933.4899,-95.3071 951.7294,-82.5394\" fill=\"none\" stroke=\"#000000\" stroke-opacity=\"0.250980\" stroke-width=\"2\"/>\n</g>\n<!-- pacman_processing.Force&#45;&gt;pacman_processing.BehaviorQuality -->\n<g class=\"edge\" id=\"edge22\">\n<title>pacman_processing.Force-&gt;pacman_processing.BehaviorQuality</title>\n<path d=\"M198.5,-128.3617C198.5,-116.7034 198.5,-99.7611 198.5,-88.111\" fill=\"none\" stroke=\"#000000\" stroke-opacity=\"0.250980\" stroke-width=\"2\"/>\n</g>\n<!-- pacman_acquisition.SessionBlock&#45;&gt;pacman_acquisition.SessionBlock.SaveTag -->\n<g class=\"edge\" id=\"edge23\">\n<title>pacman_acquisition.SessionBlock-&gt;pacman_acquisition.SessionBlock.SaveTag</title>\n<path d=\"M555.6124,-398.9494C530.394,-385.0696 496.1496,-366.2219 475.7866,-355.0144\" fill=\"none\" stroke=\"#000000\" stroke-opacity=\"0.250980\" stroke-width=\".75\"/>\n</g>\n<!-- pacman_acquisition.SessionBlock&#45;&gt;pacman_processing.NeuronPsth -->\n<g class=\"edge\" id=\"edge24\">\n<title>pacman_acquisition.SessionBlock-&gt;pacman_processing.NeuronPsth</title>\n<path d=\"M663.882,-398.9494C738.765,-381.7433 846.8727,-356.903 883.6755,-348.4467\" fill=\"none\" stroke=\"#000000\" stroke-opacity=\"0.250980\" stroke-width=\".75\"/>\n</g>\n<!-- pacman_acquisition.SessionBlock&#45;&gt;pacman_processing.MotorUnitPsth -->\n<g class=\"edge\" id=\"edge25\">\n<title>pacman_acquisition.SessionBlock-&gt;pacman_processing.MotorUnitPsth</title>\n<path d=\"M610.736,-398.9494C629.8733,-384.4947 656.1438,-364.652 670.6941,-353.6619\" fill=\"none\" stroke=\"#000000\" stroke-opacity=\"0.250980\" stroke-width=\".75\"/>\n</g>\n<!-- pacman_acquisition.ConditionParams.Ramp -->\n<g class=\"node\" id=\"node22\">\n<title>pacman_acquisition.ConditionParams.Ramp</title>\n<g id=\"a_node22\"><a xlink:title=\"→ pacman_acquisition.ConditionParams.Target\r------------------------------\rtarget_amplitude     \r\">\n<polygon fill=\"transparent\" points=\"2035,-355 1826,-355 1826,-336 2035,-336 2035,-355\" stroke=\"transparent\"/>\n<text fill=\"#000000\" font-family=\"arial\" font-size=\"10.00\" text-anchor=\"middle\" x=\"1930.5\" y=\"-343\">pacman_acquisition.ConditionParams.Ramp</text>\n</a>\n</g>\n</g>\n<!-- pacman_processing.EphysTrialStart&#45;&gt;pacman_processing.TrialAlignment -->\n<g class=\"edge\" id=\"edge26\">\n<title>pacman_processing.EphysTrialStart-&gt;pacman_processing.TrialAlignment</title>\n<path d=\"M343.1035,-257.0279C355.9756,-244.2519 372.924,-227.4299 383.2499,-217.1811\" fill=\"none\" stroke=\"#000000\" stroke-opacity=\"0.250980\" stroke-width=\".75\"/>\n</g>\n<!-- pacman_acquisition.Behavior.Condition&#45;&gt;pacman_acquisition.Behavior.Trial -->\n<g class=\"edge\" id=\"edge27\">\n<title>pacman_acquisition.Behavior.Condition-&gt;pacman_acquisition.Behavior.Trial</title>\n<path d=\"M359.1814,-406.9246C336.0877,-393.3738 294.1097,-368.742 270.9465,-355.1504\" fill=\"none\" stroke=\"#000000\" stroke-dasharray=\"5,2\" stroke-opacity=\"0.250980\" stroke-width=\".75\"/>\n</g>\n<!-- pacman_acquisition.Behavior.Condition&#45;&gt;pacman_processing.NeuronPsth -->\n<g class=\"edge\" id=\"edge28\">\n<title>pacman_acquisition.Behavior.Condition-&gt;pacman_processing.NeuronPsth</title>\n<path d=\"M428.3429,-406.9608C444.4205,-404.2099 462.159,-401.3262 478.5,-399 617.1306,-379.2653 652.8385,-382.5165 791.5,-363 824.8064,-358.3121 863.8257,-351.4448 883.6007,-347.8663\" fill=\"none\" stroke=\"#000000\" stroke-opacity=\"0.250980\" stroke-width=\".75\"/>\n</g>\n<!-- pacman_acquisition.Behavior.Condition&#45;&gt;pacman_processing.MotorUnitPsth -->\n<g class=\"edge\" id=\"edge29\">\n<title>pacman_acquisition.Behavior.Condition-&gt;pacman_processing.MotorUnitPsth</title>\n<path d=\"M416.451,-406.9983C486.479,-390.75 625.8309,-358.4167 668.6708,-348.4767\" fill=\"none\" stroke=\"#000000\" stroke-opacity=\"0.250980\" stroke-width=\".75\"/>\n</g>\n<!-- pacman_acquisition.ConditionParams.Sine -->\n<g class=\"node\" id=\"node25\">\n<title>pacman_acquisition.ConditionParams.Sine</title>\n<g id=\"a_node25\"><a xlink:title=\"→ pacman_acquisition.ConditionParams.Target\r------------------------------\rtarget_amplitude     \rtarget_frequency     \r\">\n<polygon fill=\"transparent\" points=\"1356,-355 1153,-355 1153,-336 1356,-336 1356,-355\" stroke=\"transparent\"/>\n<text fill=\"#000000\" font-family=\"arial\" font-size=\"10.00\" text-anchor=\"middle\" x=\"1254.5\" y=\"-343\">pacman_acquisition.ConditionParams.Sine</text>\n</a>\n</g>\n</g>\n<!-- pacman_acquisition.ConditionParams.Static -->\n<g class=\"node\" id=\"node26\">\n<title>pacman_acquisition.ConditionParams.Static</title>\n<g id=\"a_node26\"><a xlink:title=\"→ pacman_acquisition.ConditionParams.Target\r\">\n<polygon fill=\"transparent\" points=\"1583,-355 1374,-355 1374,-336 1583,-336 1583,-355\" stroke=\"transparent\"/>\n<text fill=\"#000000\" font-family=\"arial\" font-size=\"10.00\" text-anchor=\"middle\" x=\"1478.5\" y=\"-343\">pacman_acquisition.ConditionParams.Static</text>\n</a>\n</g>\n</g>\n<!-- pacman_acquisition.ConditionParams.Target&#45;&gt;pacman_acquisition.ConditionParams.Chirp -->\n<g class=\"edge\" id=\"edge30\">\n<title>pacman_acquisition.ConditionParams.Target-&gt;pacman_acquisition.ConditionParams.Chirp</title>\n<path d=\"M1565.2132,-406.9246C1596.027,-393.3359 1652.1085,-368.6043 1682.8743,-355.0368\" fill=\"none\" stroke=\"#000000\" stroke-opacity=\"0.250980\" stroke-width=\"2\"/>\n</g>\n<!-- pacman_acquisition.ConditionParams.Target&#45;&gt;pacman_acquisition.ConditionParams.Ramp -->\n<g class=\"edge\" id=\"edge31\">\n<title>pacman_acquisition.ConditionParams.Target-&gt;pacman_acquisition.ConditionParams.Ramp</title>\n<path d=\"M1595.291,-406.9983C1669.3353,-393.4139 1804.6616,-368.5866 1878.7071,-355.0021\" fill=\"none\" stroke=\"#000000\" stroke-opacity=\"0.250980\" stroke-width=\"2\"/>\n</g>\n<!-- pacman_acquisition.ConditionParams.Target&#45;&gt;pacman_acquisition.ConditionParams.Sine -->\n<g class=\"edge\" id=\"edge32\">\n<title>pacman_acquisition.ConditionParams.Target-&gt;pacman_acquisition.ConditionParams.Sine</title>\n<path d=\"M1504.8241,-406.9983C1449.6069,-393.4328 1348.7533,-368.6557 1293.4084,-355.0588\" fill=\"none\" stroke=\"#000000\" stroke-opacity=\"0.250980\" stroke-width=\"2\"/>\n</g>\n<!-- pacman_acquisition.ConditionParams.Target&#45;&gt;pacman_acquisition.ConditionParams.Static -->\n<g class=\"edge\" id=\"edge33\">\n<title>pacman_acquisition.ConditionParams.Target-&gt;pacman_acquisition.ConditionParams.Static</title>\n<path d=\"M1534.7338,-406.9246C1522.3974,-393.4495 1500.0296,-369.0169 1487.5444,-355.3792\" fill=\"none\" stroke=\"#000000\" stroke-opacity=\"0.250980\" stroke-width=\"2\"/>\n</g>\n</g>\n</svg>"
     },
     "metadata": {},
     "execution_count": 3
    }
   ],
   "source": [
    "dj.ERD(pacman_acquisition) + dj.ERD(pacman_processing)"
   ]
  },
  {
   "cell_type": "code",
   "execution_count": 4,
   "metadata": {},
   "outputs": [
    {
     "output_type": "execute_result",
     "data": {
      "text/plain": "*session_date  *monkey      *ephys_file_id ephys_file_pat ephys_sample_r ephys_duration\n+------------+ +----------+ +------------+ +------------+ +------------+ +------------+\n2018-10-02     Cousteau     0              /srv/locker/ch 30000          2940.141      \n2019-01-30     Cousteau     0              /srv/locker/ch 30000          2438.203      \n2019-09-11     Cousteau     0              /srv/locker/ch 30000          7117.705      \n2019-12-16     Cousteau     0              /srv/locker/ch 30000          7449.0136     \n (Total: 4)",
      "text/html": "\n        \n        <style type=\"text/css\">\n            .Relation{\n                border-collapse:collapse;\n            }\n            .Relation th{\n                background: #A0A0A0; color: #ffffff; padding:4px; border:#f0e0e0 1px solid;\n                font-weight: normal; font-family: monospace; font-size: 100%;\n            }\n            .Relation td{\n                padding:4px; border:#f0e0e0 1px solid; font-size:100%;\n            }\n            .Relation tr:nth-child(odd){\n                background: #ffffff;\n            }\n            .Relation tr:nth-child(even){\n                background: #f3f1ff;\n            }\n            /* Tooltip container */\n            .djtooltip {\n            }\n            /* Tooltip text */\n            .djtooltip .djtooltiptext {\n                visibility: hidden;\n                width: 120px;\n                background-color: black;\n                color: #fff;\n                text-align: center;\n                padding: 5px 0;\n                border-radius: 6px;\n                /* Position the tooltip text - see examples below! */\n                position: absolute;\n                z-index: 1;\n            }\n            #primary {\n                font-weight: bold;\n                color: black;\n            }\n\n            #nonprimary {\n                font-weight: normal;\n                color: white;\n            }\n\n            /* Show the tooltip text when you mouse over the tooltip container */\n            .djtooltip:hover .djtooltiptext {\n                visibility: visible;\n            }\n        </style>\n        \n        <b>Electrophysiological recording</b>\n            <div style=\"max-height:1000px;max-width:1500px;overflow:auto;\">\n            <table border=\"1\" class=\"Relation\">\n                <thead> <tr style=\"text-align: right;\"> <th> <div class=\"djtooltip\">\n                                <p id=\"primary\">session_date</p>\n                                <span class=\"djtooltiptext\">session date</span>\n                            </div></th><th><div class=\"djtooltip\">\n                                <p id=\"primary\">monkey</p>\n                                <span class=\"djtooltiptext\">unique monkey name</span>\n                            </div></th><th><div class=\"djtooltip\">\n                                <p id=\"primary\">ephys_file_id</p>\n                                <span class=\"djtooltiptext\">file ID</span>\n                            </div></th><th><div class=\"djtooltip\">\n                                <p id=\"nonprimary\">ephys_file_path</p>\n                                <span class=\"djtooltiptext\">file path (temporary until issues with filepath attribute are resolved)</span>\n                            </div></th><th><div class=\"djtooltip\">\n                                <p id=\"nonprimary\">ephys_sample_rate</p>\n                                <span class=\"djtooltiptext\">sampling rate for ephys data  [Hz]</span>\n                            </div></th><th><div class=\"djtooltip\">\n                                <p id=\"nonprimary\">ephys_duration</p>\n                                <span class=\"djtooltiptext\">recording duration [sec]</span>\n                            </div> </th> </tr> </thead>\n                <tbody> <tr> <td>2018-10-02</td>\n<td>Cousteau</td>\n<td>0</td>\n<td>/srv/locker/churchland/Jumanji/pacman-task/cousteau/raw/2018-10-02/blackrock/pacman-task_c_181002_emg_001.ns5</td>\n<td>30000</td>\n<td>2940.141</td></tr><tr><td>2019-01-30</td>\n<td>Cousteau</td>\n<td>0</td>\n<td>/srv/locker/churchland/Jumanji/pacman-task/cousteau/raw/2019-01-30/blackrock/pacman-task_c_190130_emg_001.ns5</td>\n<td>30000</td>\n<td>2438.203</td></tr><tr><td>2019-09-11</td>\n<td>Cousteau</td>\n<td>0</td>\n<td>/srv/locker/churchland/Jumanji/pacman-task/cousteau/raw/2019-09-11/blackrock/pacman-task_c_190911_emg_001.ns5</td>\n<td>30000</td>\n<td>7117.705</td></tr><tr><td>2019-12-16</td>\n<td>Cousteau</td>\n<td>0</td>\n<td>/srv/locker/churchland/Jumanji/pacman-task/cousteau/raw/2019-12-16/blackrock/pacman-task_c_191216_neu_emg_001.ns6</td>\n<td>30000</td>\n<td>7449.0136</td> </tr> </tbody>\n            </table>\n            \n            <p>Total: 4</p></div>\n            "
     },
     "metadata": {},
     "execution_count": 4
    }
   ],
   "source": [
    "acquisition.EphysRecording()"
   ]
  },
  {
   "cell_type": "code",
   "execution_count": null,
   "metadata": {},
   "outputs": [],
   "source": [
    "key = (pacman_acquisition.Behavior.Condition & (pacman_acquisition.Behavior.Trial & {'session_date':'2018-10-02','trial_number':10})).fetch1('KEY')"
   ]
  },
  {
   "cell_type": "code",
   "execution_count": null,
   "metadata": {},
   "outputs": [],
   "source": [
    "(pacman_acquisition.Behavior.Trial & {'session_date':'2018-10-02'}) & pacman_acquisition.ConditionParams.Stim"
   ]
  },
  {
   "cell_type": "code",
   "execution_count": null,
   "metadata": {},
   "outputs": [],
   "source": [
    "joined_table, part_tables = dju.joinparts(pacman_acquisition.ConditionParams, key, depth=2)"
   ]
  },
  {
   "cell_type": "code",
   "execution_count": null,
   "metadata": {},
   "outputs": [],
   "source": [
    "part_tables"
   ]
  },
  {
   "cell_type": "code",
   "execution_count": null,
   "metadata": {},
   "outputs": [],
   "source": [
    "pacman_acquisition.ConditionParams.Ramp in part_tables"
   ]
  },
  {
   "cell_type": "code",
   "execution_count": null,
   "metadata": {},
   "outputs": [],
   "source": [
    "cond_params = joined_table.fetch1()\n",
    "cond_params"
   ]
  },
  {
   "cell_type": "code",
   "execution_count": null,
   "metadata": {},
   "outputs": [],
   "source": [
    "Fs = (acquisition.BehaviorRecording & key).fetch1('behavior_sample_rate')"
   ]
  },
  {
   "cell_type": "code",
   "execution_count": null,
   "metadata": {},
   "outputs": [],
   "source": [
    "np.arange(-float(cond_params['target_pad']), float(cond_params['target_duration']+cond_params['target_pad'])+1/Fs, 1/Fs)"
   ]
  },
  {
   "cell_type": "code",
   "execution_count": null,
   "metadata": {},
   "outputs": [],
   "source": [
    "target_params['target_pad']"
   ]
  },
  {
   "cell_type": "code",
   "execution_count": null,
   "metadata": {},
   "outputs": [],
   "source": [
    "# aggregate pipelines\n",
    "Pipeline = {'common': dj.ERD(action) + dj.ERD(acquisition) + dj.ERD(equipment) + dj.ERD(lab) + dj.ERD(processing) + dj.ERD(reference),\n",
    "            'pacman': dj.ERD(pacman_acquisition) + dj.ERD(pacman_processing),\n",
    "            'emg': (dj.ERD(acquisition.EmgChannelGroup)-1) + (dj.ERD(processing.MotorUnit)-1),\n",
    "            'neural': (dj.ERD(acquisition.NeuralChannelGroup)-1) + (dj.ERD(processing.Neuron)-1)}"
   ]
  },
  {
   "cell_type": "markdown",
   "metadata": {},
   "source": [
    "### Questions"
   ]
  },
  {
   "cell_type": "code",
   "execution_count": null,
   "metadata": {},
   "outputs": [],
   "source": [
    "\"\"\"\n",
    "- remote debugging in VS Code?\n",
    "\"\"\""
   ]
  },
  {
   "cell_type": "markdown",
   "metadata": {},
   "source": [
    "### Suggestions"
   ]
  },
  {
   "cell_type": "code",
   "execution_count": null,
   "metadata": {},
   "outputs": [],
   "source": [
    "\"\"\"\n",
    "insert a list of keys in acq.EphysRecording to improve performance\n",
    "\"\"\""
   ]
  }
 ],
 "metadata": {
  "kernelspec": {
   "display_name": "Python 3",
   "language": "python",
   "name": "python3"
  },
  "language_info": {
   "codemirror_mode": {
    "name": "ipython",
    "version": 3
   },
   "file_extension": ".py",
   "mimetype": "text/x-python",
   "name": "python",
   "nbconvert_exporter": "python",
   "pygments_lexer": "ipython3",
   "version": "3.6.9-final"
  }
 },
 "nbformat": 4,
 "nbformat_minor": 4
}