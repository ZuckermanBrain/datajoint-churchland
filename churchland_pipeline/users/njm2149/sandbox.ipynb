{
 "cells": [
  {
   "cell_type": "code",
   "execution_count": 1,
   "metadata": {
    "tags": []
   },
   "outputs": [
    {
     "output_type": "stream",
     "name": "stdout",
     "text": "Connecting ChurchlandLab_test@s1n4.u19motor.zi.columbia.edu:3306\n"
    }
   ],
   "source": [
    "import os, sys, pathlib\n",
    "sys.path.insert(0, str(pathlib.Path(os.getcwd()).parents[2]))\n",
    "sys.path.insert(0, str(pathlib.Path(os.getcwd()).parents[2]) + '/brPY/')\n",
    "import datajoint as dj\n",
    "from churchland_pipeline import action, acquisition, equipment, lab, processing, reference\n",
    "from churchland_pipeline.rigs.Jumanji import speedgoat\n",
    "from churchland_pipeline.tasks.pacman import pacman_acquisition, pacman_processing\n",
    "from churchland_pipeline.users.njm2149 import datajoint_utilities as dju\n",
    "images_path = '/Users/Najja/Documents/code/data-synthesis/datajoint-churchland/churchland_pipeline/images/'"
   ]
  },
  {
   "cell_type": "code",
   "execution_count": 2,
   "metadata": {},
   "outputs": [],
   "source": [
    "import re, inspect\n",
    "import pandas as pd\n",
    "import numpy as np\n",
    "from datetime import datetime\n",
    "from brpylib import NsxFile, brpylib_ver\n",
    "from collections import ChainMap"
   ]
  },
  {
   "cell_type": "code",
   "execution_count": 4,
   "metadata": {},
   "outputs": [
    {
     "output_type": "execute_result",
     "data": {
      "text/plain": "<datajoint.diagram.Diagram at 0x7f93f997ad68>",
      "image/svg+xml": "<svg height=\"169pt\" viewBox=\"0.00 0.00 1472.00 169.00\" width=\"1472pt\" xmlns=\"http://www.w3.org/2000/svg\" xmlns:xlink=\"http://www.w3.org/1999/xlink\">\n<g class=\"graph\" id=\"graph0\" transform=\"scale(1 1) rotate(0) translate(4 165)\">\n<title>%3</title>\n<polygon fill=\"#ffffff\" points=\"-4,4 -4,-165 1468,-165 1468,4 -4,4\" stroke=\"transparent\"/>\n<!-- pacman_acquisition.ConditionParams.Chirp -->\n<g class=\"node\" id=\"node1\">\n<title>pacman_acquisition.ConditionParams.Chirp</title>\n<g id=\"a_node1\"><a xlink:title=\"→ pacman_acquisition.ConditionParams.Target\r------------------------------\rtarget_amplitude     \rtarget_frequency_init \rtarget_frequency_final \r\">\n<polygon fill=\"transparent\" points=\"214,-19 3,-19 3,0 214,0 214,-19\" stroke=\"transparent\"/>\n<text fill=\"#000000\" font-family=\"arial\" font-size=\"10.00\" text-anchor=\"middle\" x=\"108.5\" y=\"-7\">pacman_acquisition.ConditionParams.Chirp</text>\n</a>\n</g>\n</g>\n<!-- pacman_acquisition.SessionBlock.SaveTag -->\n<g class=\"node\" id=\"node2\">\n<title>pacman_acquisition.SessionBlock.SaveTag</title>\n<g id=\"a_node2\"><a xlink:title=\"→ pacman_acquisition.SessionBlock\r→ acquisition.Session.SaveTag\r\">\n<polygon fill=\"transparent\" points=\"1317.5,-19 1107.5,-19 1107.5,0 1317.5,0 1317.5,-19\" stroke=\"transparent\"/>\n<text fill=\"#000000\" font-family=\"arial\" font-size=\"10.00\" text-anchor=\"middle\" x=\"1212.5\" y=\"-7\">pacman_acquisition.SessionBlock.SaveTag</text>\n</a>\n</g>\n</g>\n<!-- pacman_acquisition.ConditionParams.Force -->\n<g class=\"node\" id=\"node3\">\n<title>pacman_acquisition.ConditionParams.Force</title>\n<g id=\"a_node3\"><a xlink:title=\"→ pacman_acquisition.ConditionParams\rforce_id             \r------------------------------\rforce_max            \rforce_offset         \rforce_inverted       \r\">\n<polygon fill=\"transparent\" points=\"213,-82 0,-82 0,-63 213,-63 213,-82\" stroke=\"transparent\"/>\n<text fill=\"#000000\" font-family=\"arial\" font-size=\"10.00\" text-anchor=\"start\" text-decoration=\"underline\" x=\"8\" y=\"-71\">pacman_acquisition.ConditionParams.Force</text>\n</a>\n</g>\n</g>\n<!-- pacman_acquisition.Behavior.Condition -->\n<g class=\"node\" id=\"node4\">\n<title>pacman_acquisition.Behavior.Condition</title>\n<g id=\"a_node4\"><a xlink:title=\"→ pacman_acquisition.Behavior\r→ pacman_acquisition.ConditionParams\r\">\n<polygon fill=\"transparent\" points=\"976.5,-82 784.5,-82 784.5,-63 976.5,-63 976.5,-82\" stroke=\"transparent\"/>\n<text fill=\"#000000\" font-family=\"arial\" font-size=\"10.00\" text-anchor=\"middle\" x=\"880.5\" y=\"-70\">pacman_acquisition.Behavior.Condition</text>\n</a>\n</g>\n</g>\n<!-- pacman_acquisition.Behavior.Trial -->\n<g class=\"node\" id=\"node13\">\n<title>pacman_acquisition.Behavior.Trial</title>\n<g id=\"a_node13\"><a xlink:title=\"→ pacman_acquisition.Behavior\rtrial_number         \r------------------------------\r→ pacman_acquisition.Behavior.Condition\rsave_tag             \rsuccessful_trial     \rsimulation_time      \rtask_state           \rforce_raw_online     \rforce_filt_online    \rreward               \rphotobox             \rstim=null            \r\">\n<polygon fill=\"transparent\" points=\"1089,-19 920,-19 920,0 1089,0 1089,-19\" stroke=\"transparent\"/>\n<text fill=\"#000000\" font-family=\"arial\" font-size=\"10.00\" text-anchor=\"start\" text-decoration=\"underline\" x=\"928\" y=\"-8\">pacman_acquisition.Behavior.Trial</text>\n</a>\n</g>\n</g>\n<!-- pacman_acquisition.Behavior.Condition&#45;&gt;pacman_acquisition.Behavior.Trial -->\n<g class=\"edge\" id=\"edge1\">\n<title>pacman_acquisition.Behavior.Condition-&gt;pacman_acquisition.Behavior.Trial</title>\n<path d=\"M899.3329,-62.9317C922.6393,-51.0905 962.1019,-31.041 985.4898,-19.1584\" fill=\"none\" stroke=\"#000000\" stroke-dasharray=\"5,2\" stroke-opacity=\"0.250980\" stroke-width=\".75\"/>\n</g>\n<!-- pacman_acquisition.ConditionParams.Stim -->\n<g class=\"node\" id=\"node5\">\n<title>pacman_acquisition.ConditionParams.Stim</title>\n<g id=\"a_node5\"><a xlink:title=\"→ pacman_acquisition.ConditionParams\rstim_id              \r------------------------------\rstim_current         \rstim_electrode       \rstim_delay           \rstim_polarity        \rstim_pulses          \rstim_width1          \rstim_width2          \rstim_interphase      \rstim_frequency       \r\">\n<polygon fill=\"transparent\" points=\"438,-82 231,-82 231,-63 438,-63 438,-82\" stroke=\"transparent\"/>\n<text fill=\"#000000\" font-family=\"arial\" font-size=\"10.00\" text-anchor=\"start\" text-decoration=\"underline\" x=\"239\" y=\"-71\">pacman_acquisition.ConditionParams.Stim</text>\n</a>\n</g>\n</g>\n<!-- pacman_acquisition.ArmPosture -->\n<g class=\"node\" id=\"node6\">\n<title>pacman_acquisition.ArmPosture</title>\n<g id=\"a_node6\"><a xlink:title=\"→ lab.Monkey\rposture_id           \r------------------------------\relbow_angle          \rshoulder_angle       \r\">\n<polygon fill=\"#000000\" fill-opacity=\"0.125490\" points=\"1292.5,-161 1132.5,-161 1132.5,-126 1292.5,-126 1292.5,-161\" stroke=\"transparent\"/>\n<text fill=\"#000000\" font-family=\"arial\" font-size=\"10.00\" text-anchor=\"start\" text-decoration=\"underline\" x=\"1140.5\" y=\"-142\">pacman_acquisition.ArmPosture</text>\n</a>\n</g>\n</g>\n<!-- pacman_acquisition.SessionBlock -->\n<g class=\"node\" id=\"node11\">\n<title>pacman_acquisition.SessionBlock</title>\n<g id=\"a_node11\"><a xlink:title=\"→ acquisition.Session\rblock_id             \r------------------------------\r→ pacman_acquisition.ArmPosture\r\">\n<polygon fill=\"#00ff00\" fill-opacity=\"0.188235\" points=\"1311.5,-90 1113.5,-90 1113.5,-55 1311.5,-55 1311.5,-90\" stroke=\"#00ff00\" stroke-opacity=\"0.188235\"/>\n<text fill=\"#006400\" font-family=\"arial\" font-size=\"12.00\" text-anchor=\"start\" text-decoration=\"underline\" x=\"1121.5\" y=\"-70.4\">pacman_acquisition.SessionBlock</text>\n</a>\n</g>\n</g>\n<!-- pacman_acquisition.ArmPosture&#45;&gt;pacman_acquisition.SessionBlock -->\n<g class=\"edge\" id=\"edge2\">\n<title>pacman_acquisition.ArmPosture-&gt;pacman_acquisition.SessionBlock</title>\n<path d=\"M1212.5,-125.9494C1212.5,-115.1083 1212.5,-101.2366 1212.5,-90.3418\" fill=\"none\" stroke=\"#000000\" stroke-dasharray=\"5,2\" stroke-opacity=\"0.250980\" stroke-width=\".75\"/>\n</g>\n<!-- pacman_acquisition.ConditionParams.Sine -->\n<g class=\"node\" id=\"node7\">\n<title>pacman_acquisition.ConditionParams.Sine</title>\n<g id=\"a_node7\"><a xlink:title=\"→ pacman_acquisition.ConditionParams.Target\r------------------------------\rtarget_amplitude     \rtarget_frequency     \r\">\n<polygon fill=\"transparent\" points=\"439,-19 232,-19 232,0 439,0 439,-19\" stroke=\"transparent\"/>\n<text fill=\"#000000\" font-family=\"arial\" font-size=\"10.00\" text-anchor=\"middle\" x=\"335.5\" y=\"-7\">pacman_acquisition.ConditionParams.Sine</text>\n</a>\n</g>\n</g>\n<!-- pacman_acquisition.TaskState -->\n<g class=\"node\" id=\"node8\">\n<title>pacman_acquisition.TaskState</title>\n<g id=\"a_node8\"><a xlink:title=\"task_state_id        \r------------------------------\rtask_state_name      \r\">\n<polygon fill=\"#000000\" fill-opacity=\"0.125490\" points=\"1464,-161 1311,-161 1311,-126 1464,-126 1464,-161\" stroke=\"transparent\"/>\n<text fill=\"#000000\" font-family=\"arial\" font-size=\"10.00\" text-anchor=\"start\" text-decoration=\"underline\" x=\"1319\" y=\"-142\">pacman_acquisition.TaskState</text>\n</a>\n</g>\n</g>\n<!-- pacman_acquisition.ConditionParams -->\n<g class=\"node\" id=\"node9\">\n<title>pacman_acquisition.ConditionParams</title>\n<g id=\"a_node9\"><a xlink:title=\"condition_id         \r\">\n<polygon fill=\"#000000\" fill-opacity=\"0.125490\" points=\"426.5,-161 242.5,-161 242.5,-126 426.5,-126 426.5,-161\" stroke=\"transparent\"/>\n<text fill=\"#000000\" font-family=\"arial\" font-size=\"10.00\" text-anchor=\"start\" text-decoration=\"underline\" x=\"250.5\" y=\"-142\">pacman_acquisition.ConditionParams</text>\n</a>\n</g>\n</g>\n<!-- pacman_acquisition.ConditionParams&#45;&gt;pacman_acquisition.ConditionParams.Force -->\n<g class=\"edge\" id=\"edge3\">\n<title>pacman_acquisition.ConditionParams-&gt;pacman_acquisition.ConditionParams.Force</title>\n<path d=\"M278.1404,-125.9494C233.5684,-112.0696 173.0434,-93.2219 137.0531,-82.0144\" fill=\"none\" stroke=\"#000000\" stroke-opacity=\"0.250980\" stroke-width=\".75\"/>\n</g>\n<!-- pacman_acquisition.ConditionParams&#45;&gt;pacman_acquisition.Behavior.Condition -->\n<g class=\"edge\" id=\"edge4\">\n<title>pacman_acquisition.ConditionParams-&gt;pacman_acquisition.Behavior.Condition</title>\n<path d=\"M426.504,-131.5361C533.787,-117.5854 708.9418,-94.8089 807.383,-82.0079\" fill=\"none\" stroke=\"#000000\" stroke-opacity=\"0.250980\" stroke-width=\".75\"/>\n</g>\n<!-- pacman_acquisition.ConditionParams&#45;&gt;pacman_acquisition.ConditionParams.Stim -->\n<g class=\"edge\" id=\"edge5\">\n<title>pacman_acquisition.ConditionParams-&gt;pacman_acquisition.ConditionParams.Stim</title>\n<path d=\"M334.5,-125.9494C334.5,-112.1517 334.5,-93.4447 334.5,-82.2141\" fill=\"none\" stroke=\"#000000\" stroke-opacity=\"0.250980\" stroke-width=\".75\"/>\n</g>\n<!-- pacman_acquisition.ConditionParams.Target -->\n<g class=\"node\" id=\"node15\">\n<title>pacman_acquisition.ConditionParams.Target</title>\n<g id=\"a_node15\"><a xlink:title=\"→ pacman_acquisition.ConditionParams\rtarget_id            \r------------------------------\rtarget_duration      \rtarget_offset        \rtarget_pad           \r\">\n<polygon fill=\"transparent\" points=\"672.5,-82 456.5,-82 456.5,-63 672.5,-63 672.5,-82\" stroke=\"transparent\"/>\n<text fill=\"#000000\" font-family=\"arial\" font-size=\"10.00\" text-anchor=\"start\" text-decoration=\"underline\" x=\"464.5\" y=\"-71\">pacman_acquisition.ConditionParams.Target</text>\n</a>\n</g>\n</g>\n<!-- pacman_acquisition.ConditionParams&#45;&gt;pacman_acquisition.ConditionParams.Target -->\n<g class=\"edge\" id=\"edge6\">\n<title>pacman_acquisition.ConditionParams-&gt;pacman_acquisition.ConditionParams.Target</title>\n<path d=\"M391.3539,-125.9494C436.3169,-112.0696 497.3729,-93.2219 533.6789,-82.0144\" fill=\"none\" stroke=\"#000000\" stroke-opacity=\"0.250980\" stroke-width=\".75\"/>\n</g>\n<!-- pacman_acquisition.ConditionParams.Ramp -->\n<g class=\"node\" id=\"node10\">\n<title>pacman_acquisition.ConditionParams.Ramp</title>\n<g id=\"a_node10\"><a xlink:title=\"→ pacman_acquisition.ConditionParams.Target\r------------------------------\rtarget_amplitude     \r\">\n<polygon fill=\"transparent\" points=\"671.5,-19 457.5,-19 457.5,0 671.5,0 671.5,-19\" stroke=\"transparent\"/>\n<text fill=\"#000000\" font-family=\"arial\" font-size=\"10.00\" text-anchor=\"middle\" x=\"564.5\" y=\"-7\">pacman_acquisition.ConditionParams.Ramp</text>\n</a>\n</g>\n</g>\n<!-- pacman_acquisition.SessionBlock&#45;&gt;pacman_acquisition.SessionBlock.SaveTag -->\n<g class=\"edge\" id=\"edge7\">\n<title>pacman_acquisition.SessionBlock-&gt;pacman_acquisition.SessionBlock.SaveTag</title>\n<path d=\"M1212.5,-54.951C1212.5,-43.4459 1212.5,-28.8292 1212.5,-19.3243\" fill=\"none\" stroke=\"#000000\" stroke-opacity=\"0.250980\" stroke-width=\".75\"/>\n</g>\n<!-- pacman_acquisition.ConditionParams.Static -->\n<g class=\"node\" id=\"node12\">\n<title>pacman_acquisition.ConditionParams.Static</title>\n<g id=\"a_node12\"><a xlink:title=\"→ pacman_acquisition.ConditionParams.Target\r\">\n<polygon fill=\"transparent\" points=\"901.5,-19 689.5,-19 689.5,0 901.5,0 901.5,-19\" stroke=\"transparent\"/>\n<text fill=\"#000000\" font-family=\"arial\" font-size=\"10.00\" text-anchor=\"middle\" x=\"795.5\" y=\"-7\">pacman_acquisition.ConditionParams.Static</text>\n</a>\n</g>\n</g>\n<!-- pacman_acquisition.Behavior -->\n<g class=\"node\" id=\"node14\">\n<title>pacman_acquisition.Behavior</title>\n<g id=\"a_node14\"><a xlink:title=\"→ acquisition.BehaviorRecording\r\">\n<ellipse cx=\"942.5\" cy=\"-143.5\" fill=\"#00007f\" fill-opacity=\"0.250980\" rx=\"108.2501\" ry=\"17.5\" stroke=\"#00007f\" stroke-opacity=\"0.250980\"/>\n<text fill=\"#00007f\" font-family=\"arial\" font-size=\"12.00\" text-anchor=\"middle\" x=\"942.5\" y=\"-140.4\">pacman_acquisition.Behavior</text>\n</a>\n</g>\n</g>\n<!-- pacman_acquisition.Behavior&#45;&gt;pacman_acquisition.Behavior.Condition -->\n<g class=\"edge\" id=\"edge8\">\n<title>pacman_acquisition.Behavior-&gt;pacman_acquisition.Behavior.Condition</title>\n<path d=\"M927.1742,-125.9494C915.1254,-112.1517 898.7898,-93.4447 888.9827,-82.2141\" fill=\"none\" stroke=\"#000000\" stroke-opacity=\"0.250980\" stroke-width=\".75\"/>\n</g>\n<!-- pacman_acquisition.Behavior&#45;&gt;pacman_acquisition.Behavior.Trial -->\n<g class=\"edge\" id=\"edge9\">\n<title>pacman_acquisition.Behavior-&gt;pacman_acquisition.Behavior.Trial</title>\n<path d=\"M959.8345,-126.0863C968.723,-116.2439 979.0143,-103.2769 985.5,-90 997.0972,-66.2593 1001.8388,-35.0594 1003.5887,-19.3874\" fill=\"none\" stroke=\"#000000\" stroke-opacity=\"0.250980\" stroke-width=\".75\"/>\n</g>\n<!-- pacman_acquisition.ConditionParams.Target&#45;&gt;pacman_acquisition.ConditionParams.Chirp -->\n<g class=\"edge\" id=\"edge10\">\n<title>pacman_acquisition.ConditionParams.Target-&gt;pacman_acquisition.ConditionParams.Chirp</title>\n<path d=\"M501.4465,-62.989C483.683,-60.353 464.3403,-57.5236 446.5,-55 355.1897,-42.0838 249.8752,-28.0422 181.3952,-19.0256\" fill=\"none\" stroke=\"#000000\" stroke-opacity=\"0.250980\" stroke-width=\"2\"/>\n</g>\n<!-- pacman_acquisition.ConditionParams.Target&#45;&gt;pacman_acquisition.ConditionParams.Sine -->\n<g class=\"edge\" id=\"edge11\">\n<title>pacman_acquisition.ConditionParams.Target-&gt;pacman_acquisition.ConditionParams.Sine</title>\n<path d=\"M529.7198,-62.9317C486.553,-51.0561 413.3758,-30.9244 370.2316,-19.055\" fill=\"none\" stroke=\"#000000\" stroke-opacity=\"0.250980\" stroke-width=\"2\"/>\n</g>\n<!-- pacman_acquisition.ConditionParams.Target&#45;&gt;pacman_acquisition.ConditionParams.Ramp -->\n<g class=\"edge\" id=\"edge12\">\n<title>pacman_acquisition.ConditionParams.Target-&gt;pacman_acquisition.ConditionParams.Ramp</title>\n<path d=\"M564.5,-62.9317C564.5,-51.0905 564.5,-31.041 564.5,-19.1584\" fill=\"none\" stroke=\"#000000\" stroke-opacity=\"0.250980\" stroke-width=\"2\"/>\n</g>\n<!-- pacman_acquisition.ConditionParams.Target&#45;&gt;pacman_acquisition.ConditionParams.Static -->\n<g class=\"edge\" id=\"edge13\">\n<title>pacman_acquisition.ConditionParams.Target-&gt;pacman_acquisition.ConditionParams.Static</title>\n<path d=\"M599.5839,-62.9317C643.1277,-51.0561 716.944,-30.9244 760.4651,-19.055\" fill=\"none\" stroke=\"#000000\" stroke-opacity=\"0.250980\" stroke-width=\"2\"/>\n</g>\n</g>\n</svg>"
     },
     "metadata": {},
     "execution_count": 4
    }
   ],
   "source": [
    "dj.ERD(pacman_acquisition)"
   ]
  },
  {
   "cell_type": "code",
   "execution_count": 24,
   "metadata": {},
   "outputs": [
    {
     "output_type": "execute_result",
     "data": {
      "text/plain": "*session_date  *monkey      behavior_summa behavior_sampl\n+------------+ +----------+ +------------+ +------------+\n2018-04-13     Cousteau     /srv/locker/ch 1000          \n2018-10-02     Cousteau     /srv/locker/ch 1000          \n2019-01-30     Cousteau     /srv/locker/ch 1000          \n2019-05-20     Cousteau     /srv/locker/ch 1000          \n2019-08-13     Cousteau     /srv/locker/ch 1000          \n2020-01-06     Cousteau     /srv/locker/ch 1000          \n (Total: 6)",
      "text/html": "\n        \n        <style type=\"text/css\">\n            .Relation{\n                border-collapse:collapse;\n            }\n            .Relation th{\n                background: #A0A0A0; color: #ffffff; padding:4px; border:#f0e0e0 1px solid;\n                font-weight: normal; font-family: monospace; font-size: 100%;\n            }\n            .Relation td{\n                padding:4px; border:#f0e0e0 1px solid; font-size:100%;\n            }\n            .Relation tr:nth-child(odd){\n                background: #ffffff;\n            }\n            .Relation tr:nth-child(even){\n                background: #f3f1ff;\n            }\n            /* Tooltip container */\n            .djtooltip {\n            }\n            /* Tooltip text */\n            .djtooltip .djtooltiptext {\n                visibility: hidden;\n                width: 120px;\n                background-color: black;\n                color: #fff;\n                text-align: center;\n                padding: 5px 0;\n                border-radius: 6px;\n                /* Position the tooltip text - see examples below! */\n                position: absolute;\n                z-index: 1;\n            }\n            #primary {\n                font-weight: bold;\n                color: black;\n            }\n\n            #nonprimary {\n                font-weight: normal;\n                color: white;\n            }\n\n            /* Show the tooltip text when you mouse over the tooltip container */\n            .djtooltip:hover .djtooltiptext {\n                visibility: visible;\n            }\n        </style>\n        \n        <b>Behavior recording, imported from Speedgoat files</b>\n            <div style=\"max-height:1000px;max-width:1500px;overflow:auto;\">\n            <table border=\"1\" class=\"Relation\">\n                <thead> <tr style=\"text-align: right;\"> <th> <div class=\"djtooltip\">\n                                <p id=\"primary\">session_date</p>\n                                <span class=\"djtooltiptext\">session date</span>\n                            </div></th><th><div class=\"djtooltip\">\n                                <p id=\"primary\">monkey</p>\n                                <span class=\"djtooltiptext\">unique monkey name</span>\n                            </div></th><th><div class=\"djtooltip\">\n                                <p id=\"nonprimary\">behavior_summary_file_path</p>\n                                <span class=\"djtooltiptext\">path to summary file (temporary)</span>\n                            </div></th><th><div class=\"djtooltip\">\n                                <p id=\"nonprimary\">behavior_sample_rate</p>\n                                <span class=\"djtooltiptext\">sampling rate for behavioral data [Hz]</span>\n                            </div> </th> </tr> </thead>\n                <tbody> <tr> <td>2018-04-13</td>\n<td>Cousteau</td>\n<td>/srv/locker/churchland/Jumanji/pacman-task/cousteau/raw/2018-04-13/speedgoat/pacman-task_c_180413_beh.summary</td>\n<td>1000</td></tr><tr><td>2018-10-02</td>\n<td>Cousteau</td>\n<td>/srv/locker/churchland/Jumanji/pacman-task/cousteau/raw/2018-10-02/speedgoat/pacman-task_c_181002_beh.summary</td>\n<td>1000</td></tr><tr><td>2019-01-30</td>\n<td>Cousteau</td>\n<td>/srv/locker/churchland/Jumanji/pacman-task/cousteau/raw/2019-01-30/speedgoat/pacman-task_c_190130_beh.summary</td>\n<td>1000</td></tr><tr><td>2019-05-20</td>\n<td>Cousteau</td>\n<td>/srv/locker/churchland/Jumanji/pacman-task/cousteau/raw/2019-05-20/speedgoat/pacman-task_c_190520_beh.summary</td>\n<td>1000</td></tr><tr><td>2019-08-13</td>\n<td>Cousteau</td>\n<td>/srv/locker/churchland/Jumanji/pacman-task/cousteau/raw/2019-08-13/speedgoat/pacman-task_c_190813_beh.summary</td>\n<td>1000</td></tr><tr><td>2020-01-06</td>\n<td>Cousteau</td>\n<td>/srv/locker/churchland/Jumanji/pacman-task/cousteau/raw/2020-01-06/speedgoat/pacman-task_c_200106_beh.summary</td>\n<td>1000</td> </tr> </tbody>\n            </table>\n            \n            <p>Total: 6</p></div>\n            "
     },
     "metadata": {},
     "execution_count": 24
    }
   ],
   "source": [
    "acquisition.BehaviorRecording()"
   ]
  },
  {
   "cell_type": "code",
   "execution_count": null,
   "metadata": {},
   "outputs": [],
   "source": [
    "# aggregate pipelines\n",
    "Pipeline = {'common': dj.ERD(action) + dj.ERD(acquisition) + dj.ERD(equipment) + dj.ERD(lab) + dj.ERD(processing) + dj.ERD(reference),\n",
    "            'pacman': dj.ERD(pacman_acquisition) + dj.ERD(pacman_processing),\n",
    "            'emg': (dj.ERD(acquisition.EmgChannelGroup)-1) + (dj.ERD(processing.MotorUnit)-1+10) - dj.ERD(pacman_processing),\n",
    "            'neural': (dj.ERD(acquisition.NeuralChannelGroup)-1) + (dj.ERD(processing.Neuron)-1+10) - dj.ERD(pacman_processing)}"
   ]
  },
  {
   "cell_type": "markdown",
   "metadata": {},
   "source": [
    "### Questions"
   ]
  },
  {
   "cell_type": "code",
   "execution_count": null,
   "metadata": {},
   "outputs": [],
   "source": [
    "\"\"\"\n",
    "\n",
    "inconsistency in ERD drawings\n",
    "some way to impose a populate constraint between tables (don't want to inherit keys, but want one populated before another)\n",
    "proj not working for dependent table in matlab\n",
    "\"\"\""
   ]
  },
  {
   "cell_type": "code",
   "execution_count": null,
   "metadata": {},
   "outputs": [],
   "source": [
    "\"\"\"\n",
    "- Part tables should be (conceptually) populated at the same time as the master table\n",
    "- Things that might change later should be manual tables that depend on the imported one\n",
    "- Shan's suggestion for using flexible task parameters typically works best if you have a model that may depend on few parameters and\n",
    "sometimes more parameters\n",
    "- can save pngs as attachments\n",
    "\n",
    "use dict.update() to insert multiple keys at once\n",
    "insert a list of keys in acq.EphysRecording to improve performance\n",
    "dict(**key) will create a copy of all the key fields (same as .copy())\n",
    "\"\"\""
   ]
  }
 ],
 "metadata": {
  "kernelspec": {
   "display_name": "Python 3",
   "language": "python",
   "name": "python3"
  },
  "language_info": {
   "codemirror_mode": {
    "name": "ipython",
    "version": 3
   },
   "file_extension": ".py",
   "mimetype": "text/x-python",
   "name": "python",
   "nbconvert_exporter": "python",
   "pygments_lexer": "ipython3",
   "version": "3.8.2-final"
  }
 },
 "nbformat": 4,
 "nbformat_minor": 4
}