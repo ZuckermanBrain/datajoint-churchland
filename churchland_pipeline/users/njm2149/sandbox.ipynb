{
 "cells": [
  {
   "cell_type": "code",
   "execution_count": 1,
   "metadata": {},
   "outputs": [
    {
     "name": "stdout",
     "output_type": "stream",
     "text": [
      "Connecting ChurchlandLab_test@s1n4.u19motor.zi.columbia.edu:3306\n"
     ]
    }
   ],
   "source": [
    "import os, sys, pathlib\n",
    "sys.path.insert(0, str(pathlib.Path(os.getcwd()).parents[2]))\n",
    "sys.path.insert(0, str(pathlib.Path(os.getcwd()).parents[2]) + '/brPY/')\n",
    "import datajoint as dj\n",
    "from churchland_pipeline import acquisition as acq\n",
    "from churchland_pipeline import action      as act\n",
    "from churchland_pipeline import ephys       as eph\n",
    "from churchland_pipeline import lab\n",
    "from churchland_pipeline import processing  as pro\n",
    "from churchland_pipeline import reference   as ref\n",
    "from churchland_pipeline.rigs.Jumanji import speedgoat as sg\n",
    "from churchland_pipeline.tasks.pacman import pacman as pac\n",
    "from churchland_pipeline import common as com"
   ]
  },
  {
   "cell_type": "code",
   "execution_count": 2,
   "metadata": {},
   "outputs": [],
   "source": [
    "import re\n",
    "import pandas as pd\n",
    "import numpy as np\n",
    "from datetime import datetime\n",
    "from brpylib import NsxFile, brpylib_ver\n",
    "import djutils as dju"
   ]
  },
  {
   "cell_type": "code",
   "execution_count": 9,
   "metadata": {},
   "outputs": [],
   "source": [
    "# aggregate pipelines\n",
    "Pipeline = {'common': dj.ERD(acq) + dj.ERD(eph) + dj.ERD(lab) + dj.ERD(pro) + dj.ERD(ref),\n",
    "            'pacman': dj.ERD(pac),\n",
    "            'emg': (dj.ERD(acq.EmgChannelGroup)-1) + (dj.ERD(pro.MotorUnit)-1+10) - dj.ERD(pac),\n",
    "            'neural': (dj.ERD(acq.NeuralChannelGroup)-1) + (dj.ERD(pro.Neuron)-1+10) - dj.ERD(pac)}"
   ]
  },
  {
   "cell_type": "markdown",
   "metadata": {},
   "source": [
    "### Questions"
   ]
  },
  {
   "cell_type": "code",
   "execution_count": null,
   "metadata": {},
   "outputs": [],
   "source": [
    "\"\"\"\n",
    "inconsistency in ERD drawings\n",
    "\"\"\""
   ]
  },
  {
   "cell_type": "code",
   "execution_count": null,
   "metadata": {},
   "outputs": [],
   "source": [
    "\"\"\"\n",
    "- Part tables should be (conceptually) populated at the same time as the master table\n",
    "- Things that might change later should be manual tables that depend on the imported one\n",
    "- Shan's suggestion for using flexible task parameters typically works best if you have a model that may depend on few parameters and\n",
    "sometimes more parameters\n",
    "- can save pngs as attachments\n",
    "\n",
    "use dict.update() to insert multiple keys at once\n",
    "insert a list of keys in acq.EphysRecording to improve performance\n",
    "dict(**key) will create a copy of all the key fields (same as .copy())\n",
    "\"\"\""
   ]
  }
 ],
 "metadata": {
  "kernelspec": {
   "display_name": "Python 3",
   "language": "python",
   "name": "python3"
  },
  "language_info": {
   "codemirror_mode": {
    "name": "ipython",
    "version": 3
   },
   "file_extension": ".py",
   "mimetype": "text/x-python",
   "name": "python",
   "nbconvert_exporter": "python",
   "pygments_lexer": "ipython3",
   "version": "3.8.2"
  }
 },
 "nbformat": 4,
 "nbformat_minor": 4
}
