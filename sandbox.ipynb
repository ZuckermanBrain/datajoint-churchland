{
 "cells": [
  {
   "cell_type": "code",
   "execution_count": 1,
   "metadata": {},
   "outputs": [
    {
     "name": "stdout",
     "output_type": "stream",
     "text": [
      "env: FILEPATH_FEATURE_SWITCH=TRUE\n",
      "env: DJ_SUPPORT_FILEPATH_MANAGEMENT=TRUE\n"
     ]
    }
   ],
   "source": [
    "%env FILEPATH_FEATURE_SWITCH = TRUE\n",
    "%env DJ_SUPPORT_FILEPATH_MANAGEMENT = TRUE"
   ]
  },
  {
   "cell_type": "code",
   "execution_count": null,
   "metadata": {},
   "outputs": [],
   "source": [
    "import os\n",
    "import re\n",
    "import pandas as pd\n",
    "import numpy as np\n",
    "from datetime import datetime\n",
    "from itertools import compress "
   ]
  },
  {
   "cell_type": "code",
   "execution_count": 2,
   "metadata": {},
   "outputs": [
    {
     "name": "stdout",
     "output_type": "stream",
     "text": [
      "Connecting ChurchlandLab_test@localhost:3306\n"
     ]
    }
   ],
   "source": [
    "import datajoint as dj\n",
    "from churchland_pipeline import acquisition as acq\n",
    "from churchland_pipeline import action      as act\n",
    "from churchland_pipeline import ephys       as eph\n",
    "from churchland_pipeline import lab\n",
    "from churchland_pipeline import processing  as pro\n",
    "from churchland_pipeline import reference   as ref\n",
    "from churchland_pipeline.rigs.Jumanji import speedgoat as sg\n",
    "from churchland_pipeline.tasks import pacman as pac\n",
    "from churchland_pipeline import common as com"
   ]
  },
  {
   "cell_type": "code",
   "execution_count": null,
   "metadata": {},
   "outputs": [],
   "source": [
    "ERD_PATH = '/scratch/users/njm2149/datajoint/churchland_pipeline/images/'"
   ]
  },
  {
   "cell_type": "code",
   "execution_count": 5,
   "metadata": {},
   "outputs": [],
   "source": [
    "# monkey and rigs to import\n",
    "MONKEY = 'Cousteau'\n",
    "RIG = 'Jumanji'\n",
    "TASK = 'Pacman'"
   ]
  },
  {
   "cell_type": "code",
   "execution_count": 6,
   "metadata": {},
   "outputs": [],
   "source": [
    "# session dates\n",
    "rawPath = '/srv/locker/churchland/{}/{}-task/{}/raw/'.format(RIG, TASK.lower(), MONKEY.lower())\n",
    "dates = sorted(list(os.listdir(rawPath)))\n",
    "dates = [x for x in dates if re.search('\\d{4}-\\d{2}-\\d{2}',x) is not None]"
   ]
  },
  {
   "cell_type": "code",
   "execution_count": 7,
   "metadata": {},
   "outputs": [],
   "source": [
    "# import session data\n",
    "for date in dates:\n",
    "    if (not any(acq.Session & {'session_date': date})\n",
    "        and all([x in os.listdir(rawPath + date + '/') for x in ['speedgoat','blackrock']])):\n",
    "        \n",
    "            # insert session\n",
    "            acq.Session.insert1((date,MONKEY,RIG,TASK))\n",
    "            \n",
    "            # insert users\n",
    "            acq.Session.User.insert1((date,MONKEY,'njm2149'))\n",
    "            if date >= '2019-11-01':\n",
    "                acq.Session.User.insert1((date,MONKEY,'emt2177'))"
   ]
  },
  {
   "cell_type": "code",
   "execution_count": 19,
   "metadata": {},
   "outputs": [],
   "source": [
    "# aggregate pipelines\n",
    "Pipeline = {'common': dj.ERD(acq) + dj.ERD(act) + dj.ERD(eph) + dj.ERD(lab) + dj.ERD(pro) + dj.ERD(ref),\n",
    "            'full': dj.ERD(acq) + dj.ERD(act) + dj.ERD(eph) + dj.ERD(lab) + dj.ERD(pro) + dj.ERD(ref) + dj.ERD(pac),\n",
    "            'pacman': dj.ERD(pac),\n",
    "            'emg': (dj.ERD(acq.EmgChannelGroup)-1) + (dj.ERD(pro.MotorUnit)-1+10),\n",
    "            'neural': (dj.ERD(acq.NeuralChannelGroup)-1) + (dj.ERD(pro.Neuron)-1+10)}"
   ]
  },
  {
   "cell_type": "code",
   "execution_count": 9,
   "metadata": {},
   "outputs": [],
   "source": [
    "# locate summary file (temporary until behavior recording filepath attribute update)\n",
    "sgPath = rawPath + dates[17] + '/speedgoat/'\n",
    "sgFiles = sorted(list(os.listdir(sgPath)))\n",
    "summaryFile = [x for x in sgFiles if re.search('.*\\.summary',x) is not None][0]\n",
    "\n",
    "# speedgoat prefix\n",
    "sgPrefix = sgPath + re.search('(.*)\\.summary',summaryFile).group(1)"
   ]
  },
  {
   "cell_type": "code",
   "execution_count": 14,
   "metadata": {
    "collapsed": true
   },
   "outputs": [
    {
     "data": {
      "text/plain": [
       "[(0, 'Init'),\n",
       " (1, 'Delay'),\n",
       " (2, 'PreTrial'),\n",
       " (3, 'FirstDotAppears'),\n",
       " (4, 'InFirstPad'),\n",
       " (5, 'InTarget'),\n",
       " (6, 'InSecondPad'),\n",
       " (7, 'PastLastDot'),\n",
       " (100, 'Success'),\n",
       " (251, 'Glitch'),\n",
       " (252, 'Abort'),\n",
       " (253, 'Failure'),\n",
       " (254, 'PostTrial'),\n",
       " (255, 'Pause')]"
      ]
     },
     "execution_count": 14,
     "metadata": {},
     "output_type": "execute_result"
    }
   ],
   "source": [
    "taskState = sg.readtaskstates(sgPrefix + '.summary')\n",
    "taskState"
   ]
  },
  {
   "cell_type": "code",
   "execution_count": 12,
   "metadata": {
    "collapsed": true
   },
   "outputs": [
    {
     "data": {
      "text/plain": [
       "{'frcPol': 1,\n",
       " 'frcMax': 16.0,\n",
       " 'frcOff': 0.3,\n",
       " 'padDur': 1,\n",
       " 'type': 'SIN',\n",
       " 'offset': (0.75, 0, 0),\n",
       " 'amplitude': (-0.75, 0, 0),\n",
       " 'duration': 2,\n",
       " 'frequency': (2, 0, 0),\n",
       " 'power': 0,\n",
       " 'condNo': 12.0,\n",
       " 'saveTag': 0,\n",
       " 'stim': 0,\n",
       " 'stimPolarity': 0,\n",
       " 'stimPulses': 0,\n",
       " 'stimWidth1': 0,\n",
       " 'stimWidth2': 0,\n",
       " 'stimInterphase': 0,\n",
       " 'stimFrequency': 0,\n",
       " 'stimCurrent': 0,\n",
       " 'stimElectrode': 0,\n",
       " 'stimDelay': 0}"
      ]
     },
     "execution_count": 12,
     "metadata": {},
     "output_type": "execute_result"
    }
   ],
   "source": [
    "params = sg.readtrialparams(sgPrefix, 1)\n",
    "params"
   ]
  },
  {
   "cell_type": "code",
   "execution_count": 11,
   "metadata": {
    "collapsed": true
   },
   "outputs": [
    {
     "data": {
      "text/plain": [
       "{'successful_trial': 1,\n",
       " 'simulation_time': array([3994.97 , 3994.971, 3994.972, ..., 4002.593, 4002.594, 4002.595]),\n",
       " 'task_state': array([  0,   1,   1, ...,   7,   7, 100], dtype=uint8),\n",
       " 'force_raw_online': array([-0.97351074, -1.06506348, -0.79986572, ...,  1.93267822,\n",
       "         1.79077148,  1.84356689]),\n",
       " 'force_filt_online': array([0.04478807, 0.04423022, 0.04493461, ..., 0.80688527, 0.80710008,\n",
       "        0.80694355]),\n",
       " 'stim': array([0, 0, 0, ..., 0, 0, 0], dtype=uint8),\n",
       " 'reward': array([0, 0, 0, ..., 0, 0, 0], dtype=uint8),\n",
       " 'photobox': array([4.48791504, 0.65704346, 0.16662598, ..., 0.50262451, 1.88568115,\n",
       "        3.76586914])}"
      ]
     },
     "execution_count": 11,
     "metadata": {},
     "output_type": "execute_result"
    }
   ],
   "source": [
    "data = sg.readtrialdata(sgPrefix,1)\n",
    "data"
   ]
  },
  {
   "cell_type": "markdown",
   "metadata": {},
   "source": [
    "### Questions"
   ]
  },
  {
   "cell_type": "code",
   "execution_count": null,
   "metadata": {},
   "outputs": [],
   "source": [
    "\"\"\"\n",
    "unclear bug in BehaviorRecording populate function\n",
    "should Pacman task schema tables be tagged with lab.Task \"Pacman\" entry?\n",
    "\"\"\""
   ]
  }
 ],
 "metadata": {
  "kernelspec": {
   "display_name": "Python 3",
   "language": "python",
   "name": "python3"
  },
  "language_info": {
   "codemirror_mode": {
    "name": "ipython",
    "version": 3
   },
   "file_extension": ".py",
   "mimetype": "text/x-python",
   "name": "python",
   "nbconvert_exporter": "python",
   "pygments_lexer": "ipython3",
   "version": "3.7.3"
  }
 },
 "nbformat": 4,
 "nbformat_minor": 2
}
