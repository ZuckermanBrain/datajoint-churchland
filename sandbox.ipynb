{
 "cells": [
  {
   "cell_type": "code",
   "execution_count": 1,
   "metadata": {},
   "outputs": [
    {
     "name": "stdout",
     "output_type": "stream",
     "text": [
      "env: FILEPATH_FEATURE_SWITCH=TRUE\n",
      "env: DJ_SUPPORT_FILEPATH_MANAGEMENT=TRUE\n"
     ]
    }
   ],
   "source": [
    "%env FILEPATH_FEATURE_SWITCH = TRUE\n",
    "%env DJ_SUPPORT_FILEPATH_MANAGEMENT = TRUE"
   ]
  },
  {
   "cell_type": "code",
   "execution_count": 2,
   "metadata": {},
   "outputs": [
    {
     "name": "stdout",
     "output_type": "stream",
     "text": [
      "Connecting ChurchlandLab_test@localhost:3306\n"
     ]
    }
   ],
   "source": [
    "import datajoint as dj\n",
    "from churchland_pipeline import acquisition as acq\n",
    "from churchland_pipeline import action      as act\n",
    "from churchland_pipeline import ephys       as eph\n",
    "from churchland_pipeline import lab\n",
    "from churchland_pipeline import processing  as pro\n",
    "from churchland_pipeline import reference   as ref\n",
    "\n",
    "from churchland_pipeline.tasks import pacman as pac\n",
    "from churchland_pipeline import common as com"
   ]
  },
  {
   "cell_type": "code",
   "execution_count": 3,
   "metadata": {},
   "outputs": [],
   "source": [
    "import os\n",
    "import re\n",
    "from datetime import datetime"
   ]
  },
  {
   "cell_type": "code",
   "execution_count": 4,
   "metadata": {},
   "outputs": [],
   "source": [
    "# monkey and rigs to import\n",
    "MONKEY = 'Cousteau'\n",
    "RIG = 'Jumanji'"
   ]
  },
  {
   "cell_type": "code",
   "execution_count": 5,
   "metadata": {},
   "outputs": [],
   "source": [
    "# session dates\n",
    "rawPath = '/srv/locker/churchland/{}/pacman-task/{}/raw/'.format(RIG, MONKEY.lower())\n",
    "dates = sorted(list(os.listdir(rawPath)))\n",
    "dates = [x for x in dates if re.search('\\d{4}-\\d{2}-\\d{2}',x) is not None]"
   ]
  },
  {
   "cell_type": "code",
   "execution_count": 6,
   "metadata": {},
   "outputs": [],
   "source": [
    "# import session data\n",
    "for date in dates:\n",
    "    if (not any(acq.Session & {'session_date': date})\n",
    "        and all([x in os.listdir(rawPath + date + '/') for x in ['speedgoat','blackrock']])):\n",
    "        \n",
    "            # insert session\n",
    "            acq.Session.insert1((date,MONKEY,RIG))\n",
    "            \n",
    "            # insert users\n",
    "            acq.Session.User.insert1((date,MONKEY,'njm2149'))\n",
    "            if date >= '2019-11-01':\n",
    "                acq.Session.User.insert1((date,MONKEY,'emt2177'))"
   ]
  },
  {
   "cell_type": "code",
   "execution_count": 11,
   "metadata": {},
   "outputs": [],
   "source": [
    "# aggregate pipelines\n",
    "Pipeline = {'common': dj.ERD(acq) + dj.ERD(act) + dj.ERD(eph) + dj.ERD(lab) + dj.ERD(pro) + dj.ERD(ref),\n",
    "            'full': dj.ERD(acq) + dj.ERD(act) + dj.ERD(eph) + dj.ERD(lab) + dj.ERD(pro) + dj.ERD(ref) + dj.ERD(pac),\n",
    "            'pacman': dj.ERD(pac),\n",
    "            'emg': (dj.ERD(acq.EmgChannelGroup)-1) + (dj.ERD(pro.MotorUnit)-1+10),\n",
    "            'neural': (dj.ERD(acq.NeuralChannelGroup)-1) + (dj.ERD(pro.Neuron)-1+10)}"
   ]
  },
  {
   "cell_type": "markdown",
   "metadata": {},
   "source": [
    "### Questions"
   ]
  },
  {
   "cell_type": "code",
   "execution_count": null,
   "metadata": {},
   "outputs": [],
   "source": [
    "\"\"\"\n",
    "best way to develop populate functions? (faster way of getting the next unpopulated key in jupyter vs. explicit database algebra?)\n",
    "reminder of schema name types\n",
    "\"\"\""
   ]
  }
 ],
 "metadata": {
  "kernelspec": {
   "display_name": "Python 3",
   "language": "python",
   "name": "python3"
  },
  "language_info": {
   "codemirror_mode": {
    "name": "ipython",
    "version": 3
   },
   "file_extension": ".py",
   "mimetype": "text/x-python",
   "name": "python",
   "nbconvert_exporter": "python",
   "pygments_lexer": "ipython3",
   "version": "3.7.3"
  }
 },
 "nbformat": 4,
 "nbformat_minor": 2
}
